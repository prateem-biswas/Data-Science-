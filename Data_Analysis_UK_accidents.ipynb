{
  "nbformat": 4,
  "nbformat_minor": 0,
  "metadata": {
    "colab": {
      "name": "Data_Analysis_UK_accidents.ipynb",
      "provenance": [],
      "collapsed_sections": [],
      "toc_visible": true,
      "authorship_tag": "ABX9TyNpRDSYcQFaI3XF7Fpk+Wfm",
      "include_colab_link": true
    },
    "kernelspec": {
      "name": "python3",
      "display_name": "Python 3"
    },
    "language_info": {
      "name": "python"
    }
  },
  "cells": [
    {
      "cell_type": "markdown",
      "metadata": {
        "id": "view-in-github",
        "colab_type": "text"
      },
      "source": [
        "<a href=\"https://colab.research.google.com/github/prateem-biswas/Data-Science-/blob/main/Data_Analysis_UK_accidents.ipynb\" target=\"_parent\"><img src=\"https://colab.research.google.com/assets/colab-badge.svg\" alt=\"Open In Colab\"/></a>"
      ]
    },
    {
      "cell_type": "markdown",
      "source": [
        "## **Loading the Dataset**\n",
        "\n",
        "The dataset is obtained from kaggle from the following [link](https://www.kaggle.com/datasets/devansodariya/road-accident-united-kingdom-uk-dataset) "
      ],
      "metadata": {
        "id": "Hngki3-O7J6K"
      }
    },
    {
      "cell_type": "code",
      "source": [
        "# Mounting the google drive on colab\n",
        "from google.colab import drive\n",
        "drive.mount('/content/drive')"
      ],
      "metadata": {
        "colab": {
          "base_uri": "https://localhost:8080/"
        },
        "id": "R44_EuKR48Og",
        "outputId": "e5097361-5116-449f-aae8-454d1da66f82"
      },
      "execution_count": null,
      "outputs": [
        {
          "output_type": "stream",
          "name": "stdout",
          "text": [
            "Mounted at /content/drive\n"
          ]
        }
      ]
    },
    {
      "cell_type": "code",
      "execution_count": null,
      "metadata": {
        "colab": {
          "base_uri": "https://localhost:8080/"
        },
        "id": "lWFrRswkvwzH",
        "outputId": "e576c768-052d-4e27-c2b7-1477ab4b87e3"
      },
      "outputs": [
        {
          "output_type": "stream",
          "name": "stdout",
          "text": [
            "Looking in indexes: https://pypi.org/simple, https://us-python.pkg.dev/colab-wheels/public/simple/\n",
            "Requirement already satisfied: kaggle in /usr/local/lib/python3.7/dist-packages (1.5.12)\n",
            "Requirement already satisfied: six>=1.10 in /usr/local/lib/python3.7/dist-packages (from kaggle) (1.15.0)\n",
            "Requirement already satisfied: tqdm in /usr/local/lib/python3.7/dist-packages (from kaggle) (4.64.0)\n",
            "Requirement already satisfied: requests in /usr/local/lib/python3.7/dist-packages (from kaggle) (2.23.0)\n",
            "Requirement already satisfied: urllib3 in /usr/local/lib/python3.7/dist-packages (from kaggle) (1.24.3)\n",
            "Requirement already satisfied: python-dateutil in /usr/local/lib/python3.7/dist-packages (from kaggle) (2.8.2)\n",
            "Requirement already satisfied: python-slugify in /usr/local/lib/python3.7/dist-packages (from kaggle) (6.1.2)\n",
            "Requirement already satisfied: certifi in /usr/local/lib/python3.7/dist-packages (from kaggle) (2022.6.15)\n",
            "Requirement already satisfied: text-unidecode>=1.3 in /usr/local/lib/python3.7/dist-packages (from python-slugify->kaggle) (1.3)\n",
            "Requirement already satisfied: chardet<4,>=3.0.2 in /usr/local/lib/python3.7/dist-packages (from requests->kaggle) (3.0.4)\n",
            "Requirement already satisfied: idna<3,>=2.5 in /usr/local/lib/python3.7/dist-packages (from requests->kaggle) (2.10)\n"
          ]
        }
      ],
      "source": [
        "! pip install kaggle"
      ]
    },
    {
      "cell_type": "code",
      "source": [
        "! mkdir ~/.kaggle"
      ],
      "metadata": {
        "id": "UG8Df_7FwWeP"
      },
      "execution_count": null,
      "outputs": []
    },
    {
      "cell_type": "code",
      "source": [
        "!cp /content/drive/MyDrive/kaggle.json ~/.kaggle/kaggle.json"
      ],
      "metadata": {
        "id": "f8AWGhuFxALp"
      },
      "execution_count": null,
      "outputs": []
    },
    {
      "cell_type": "code",
      "source": [
        "! chmod 600 ~/.kaggle/kaggle.json"
      ],
      "metadata": {
        "id": "jrCu2Fe2xK3q"
      },
      "execution_count": null,
      "outputs": []
    },
    {
      "cell_type": "code",
      "source": [
        "! kaggle datasets download devansodariya/road-accident-united-kingdom-uk-dataset"
      ],
      "metadata": {
        "colab": {
          "base_uri": "https://localhost:8080/"
        },
        "id": "urxJwNtFxjau",
        "outputId": "833270ac-c258-4e07-ac62-864edd058864"
      },
      "execution_count": null,
      "outputs": [
        {
          "output_type": "stream",
          "name": "stdout",
          "text": [
            "Downloading road-accident-united-kingdom-uk-dataset.zip to /content\n",
            " 86% 49.0M/56.8M [00:01<00:00, 37.5MB/s]\n",
            "100% 56.8M/56.8M [00:01<00:00, 35.6MB/s]\n"
          ]
        }
      ]
    },
    {
      "cell_type": "code",
      "source": [
        "! unzip road-accident-united-kingdom-uk-dataset.zip"
      ],
      "metadata": {
        "colab": {
          "base_uri": "https://localhost:8080/"
        },
        "id": "NQBjoB-o0G1V",
        "outputId": "ebc3e052-5208-410a-f65b-2ce04ed0b790"
      },
      "execution_count": null,
      "outputs": [
        {
          "output_type": "stream",
          "name": "stdout",
          "text": [
            "Archive:  road-accident-united-kingdom-uk-dataset.zip\n",
            "  inflating: UK_Accident.csv         \n"
          ]
        }
      ]
    },
    {
      "cell_type": "markdown",
      "source": [
        "## **Data Preparation and Cleaning**\n",
        "\n",
        "1. Loading the dataset using pandas\n",
        "2. Overview of the dataset \n",
        "3. Fixing the missing and incorrect values in the dataset"
      ],
      "metadata": {
        "id": "Mr4voIgM9T7t"
      }
    },
    {
      "cell_type": "code",
      "source": [
        "#Importing important libraries\n",
        "import pandas as pd\n",
        "import numpy as np\n",
        "import matplotlib.pyplot as plt\n",
        "%matplotlib inline"
      ],
      "metadata": {
        "id": "z84PTanoya_f"
      },
      "execution_count": null,
      "outputs": []
    },
    {
      "cell_type": "code",
      "source": [
        "df = pd.read_csv(\"UK_Accident.csv\")"
      ],
      "metadata": {
        "id": "CCDVFKQRy4IA"
      },
      "execution_count": null,
      "outputs": []
    },
    {
      "cell_type": "code",
      "source": [
        "df.head()"
      ],
      "metadata": {
        "colab": {
          "base_uri": "https://localhost:8080/",
          "height": 438
        },
        "id": "fCOHo3q_zGkJ",
        "outputId": "2451414e-43c0-4f02-8681-2f9f6b6fe432"
      },
      "execution_count": null,
      "outputs": [
        {
          "output_type": "execute_result",
          "data": {
            "text/plain": [
              "   Unnamed: 0 Accident_Index  Location_Easting_OSGR  Location_Northing_OSGR  \\\n",
              "0           0  200501BS00001               525680.0                178240.0   \n",
              "1           1  200501BS00002               524170.0                181650.0   \n",
              "2           2  200501BS00003               524520.0                182240.0   \n",
              "3           3  200501BS00004               526900.0                177530.0   \n",
              "4           4  200501BS00005               528060.0                179040.0   \n",
              "\n",
              "   Longitude   Latitude  Police_Force  Accident_Severity  Number_of_Vehicles  \\\n",
              "0  -0.191170  51.489096             1                  2                   1   \n",
              "1  -0.211708  51.520075             1                  3                   1   \n",
              "2  -0.206458  51.525301             1                  3                   2   \n",
              "3  -0.173862  51.482442             1                  3                   1   \n",
              "4  -0.156618  51.495752             1                  3                   1   \n",
              "\n",
              "   Number_of_Casualties  ...      Pedestrian_Crossing-Physical_Facilities  \\\n",
              "0                     1  ...                               Zebra crossing   \n",
              "1                     1  ...  Pedestrian phase at traffic signal junction   \n",
              "2                     1  ...        No physical crossing within 50 meters   \n",
              "3                     1  ...        No physical crossing within 50 meters   \n",
              "4                     1  ...        No physical crossing within 50 meters   \n",
              "\n",
              "                          Light_Conditions          Weather_Conditions  \\\n",
              "0           Daylight: Street light present  Raining without high winds   \n",
              "1  Darkness: Street lights present and lit     Fine without high winds   \n",
              "2  Darkness: Street lights present and lit     Fine without high winds   \n",
              "3           Daylight: Street light present     Fine without high winds   \n",
              "4        Darkness: Street lighting unknown     Fine without high winds   \n",
              "\n",
              "   Road_Surface_Conditions Special_Conditions_at_Site  Carriageway_Hazards  \\\n",
              "0                 Wet/Damp                       None                 None   \n",
              "1                      Dry                       None                 None   \n",
              "2                      Dry                       None                 None   \n",
              "3                      Dry                       None                 None   \n",
              "4                 Wet/Damp                       None                 None   \n",
              "\n",
              "   Urban_or_Rural_Area Did_Police_Officer_Attend_Scene_of_Accident  \\\n",
              "0                    1                                         Yes   \n",
              "1                    1                                         Yes   \n",
              "2                    1                                         Yes   \n",
              "3                    1                                         Yes   \n",
              "4                    1                                         Yes   \n",
              "\n",
              "   LSOA_of_Accident_Location  Year  \n",
              "0                  E01002849  2005  \n",
              "1                  E01002909  2005  \n",
              "2                  E01002857  2005  \n",
              "3                  E01002840  2005  \n",
              "4                  E01002863  2005  \n",
              "\n",
              "[5 rows x 33 columns]"
            ],
            "text/html": [
              "\n",
              "  <div id=\"df-c4ebe097-6300-45d2-9fcc-9fe9397fc26a\">\n",
              "    <div class=\"colab-df-container\">\n",
              "      <div>\n",
              "<style scoped>\n",
              "    .dataframe tbody tr th:only-of-type {\n",
              "        vertical-align: middle;\n",
              "    }\n",
              "\n",
              "    .dataframe tbody tr th {\n",
              "        vertical-align: top;\n",
              "    }\n",
              "\n",
              "    .dataframe thead th {\n",
              "        text-align: right;\n",
              "    }\n",
              "</style>\n",
              "<table border=\"1\" class=\"dataframe\">\n",
              "  <thead>\n",
              "    <tr style=\"text-align: right;\">\n",
              "      <th></th>\n",
              "      <th>Unnamed: 0</th>\n",
              "      <th>Accident_Index</th>\n",
              "      <th>Location_Easting_OSGR</th>\n",
              "      <th>Location_Northing_OSGR</th>\n",
              "      <th>Longitude</th>\n",
              "      <th>Latitude</th>\n",
              "      <th>Police_Force</th>\n",
              "      <th>Accident_Severity</th>\n",
              "      <th>Number_of_Vehicles</th>\n",
              "      <th>Number_of_Casualties</th>\n",
              "      <th>...</th>\n",
              "      <th>Pedestrian_Crossing-Physical_Facilities</th>\n",
              "      <th>Light_Conditions</th>\n",
              "      <th>Weather_Conditions</th>\n",
              "      <th>Road_Surface_Conditions</th>\n",
              "      <th>Special_Conditions_at_Site</th>\n",
              "      <th>Carriageway_Hazards</th>\n",
              "      <th>Urban_or_Rural_Area</th>\n",
              "      <th>Did_Police_Officer_Attend_Scene_of_Accident</th>\n",
              "      <th>LSOA_of_Accident_Location</th>\n",
              "      <th>Year</th>\n",
              "    </tr>\n",
              "  </thead>\n",
              "  <tbody>\n",
              "    <tr>\n",
              "      <th>0</th>\n",
              "      <td>0</td>\n",
              "      <td>200501BS00001</td>\n",
              "      <td>525680.0</td>\n",
              "      <td>178240.0</td>\n",
              "      <td>-0.191170</td>\n",
              "      <td>51.489096</td>\n",
              "      <td>1</td>\n",
              "      <td>2</td>\n",
              "      <td>1</td>\n",
              "      <td>1</td>\n",
              "      <td>...</td>\n",
              "      <td>Zebra crossing</td>\n",
              "      <td>Daylight: Street light present</td>\n",
              "      <td>Raining without high winds</td>\n",
              "      <td>Wet/Damp</td>\n",
              "      <td>None</td>\n",
              "      <td>None</td>\n",
              "      <td>1</td>\n",
              "      <td>Yes</td>\n",
              "      <td>E01002849</td>\n",
              "      <td>2005</td>\n",
              "    </tr>\n",
              "    <tr>\n",
              "      <th>1</th>\n",
              "      <td>1</td>\n",
              "      <td>200501BS00002</td>\n",
              "      <td>524170.0</td>\n",
              "      <td>181650.0</td>\n",
              "      <td>-0.211708</td>\n",
              "      <td>51.520075</td>\n",
              "      <td>1</td>\n",
              "      <td>3</td>\n",
              "      <td>1</td>\n",
              "      <td>1</td>\n",
              "      <td>...</td>\n",
              "      <td>Pedestrian phase at traffic signal junction</td>\n",
              "      <td>Darkness: Street lights present and lit</td>\n",
              "      <td>Fine without high winds</td>\n",
              "      <td>Dry</td>\n",
              "      <td>None</td>\n",
              "      <td>None</td>\n",
              "      <td>1</td>\n",
              "      <td>Yes</td>\n",
              "      <td>E01002909</td>\n",
              "      <td>2005</td>\n",
              "    </tr>\n",
              "    <tr>\n",
              "      <th>2</th>\n",
              "      <td>2</td>\n",
              "      <td>200501BS00003</td>\n",
              "      <td>524520.0</td>\n",
              "      <td>182240.0</td>\n",
              "      <td>-0.206458</td>\n",
              "      <td>51.525301</td>\n",
              "      <td>1</td>\n",
              "      <td>3</td>\n",
              "      <td>2</td>\n",
              "      <td>1</td>\n",
              "      <td>...</td>\n",
              "      <td>No physical crossing within 50 meters</td>\n",
              "      <td>Darkness: Street lights present and lit</td>\n",
              "      <td>Fine without high winds</td>\n",
              "      <td>Dry</td>\n",
              "      <td>None</td>\n",
              "      <td>None</td>\n",
              "      <td>1</td>\n",
              "      <td>Yes</td>\n",
              "      <td>E01002857</td>\n",
              "      <td>2005</td>\n",
              "    </tr>\n",
              "    <tr>\n",
              "      <th>3</th>\n",
              "      <td>3</td>\n",
              "      <td>200501BS00004</td>\n",
              "      <td>526900.0</td>\n",
              "      <td>177530.0</td>\n",
              "      <td>-0.173862</td>\n",
              "      <td>51.482442</td>\n",
              "      <td>1</td>\n",
              "      <td>3</td>\n",
              "      <td>1</td>\n",
              "      <td>1</td>\n",
              "      <td>...</td>\n",
              "      <td>No physical crossing within 50 meters</td>\n",
              "      <td>Daylight: Street light present</td>\n",
              "      <td>Fine without high winds</td>\n",
              "      <td>Dry</td>\n",
              "      <td>None</td>\n",
              "      <td>None</td>\n",
              "      <td>1</td>\n",
              "      <td>Yes</td>\n",
              "      <td>E01002840</td>\n",
              "      <td>2005</td>\n",
              "    </tr>\n",
              "    <tr>\n",
              "      <th>4</th>\n",
              "      <td>4</td>\n",
              "      <td>200501BS00005</td>\n",
              "      <td>528060.0</td>\n",
              "      <td>179040.0</td>\n",
              "      <td>-0.156618</td>\n",
              "      <td>51.495752</td>\n",
              "      <td>1</td>\n",
              "      <td>3</td>\n",
              "      <td>1</td>\n",
              "      <td>1</td>\n",
              "      <td>...</td>\n",
              "      <td>No physical crossing within 50 meters</td>\n",
              "      <td>Darkness: Street lighting unknown</td>\n",
              "      <td>Fine without high winds</td>\n",
              "      <td>Wet/Damp</td>\n",
              "      <td>None</td>\n",
              "      <td>None</td>\n",
              "      <td>1</td>\n",
              "      <td>Yes</td>\n",
              "      <td>E01002863</td>\n",
              "      <td>2005</td>\n",
              "    </tr>\n",
              "  </tbody>\n",
              "</table>\n",
              "<p>5 rows × 33 columns</p>\n",
              "</div>\n",
              "      <button class=\"colab-df-convert\" onclick=\"convertToInteractive('df-c4ebe097-6300-45d2-9fcc-9fe9397fc26a')\"\n",
              "              title=\"Convert this dataframe to an interactive table.\"\n",
              "              style=\"display:none;\">\n",
              "        \n",
              "  <svg xmlns=\"http://www.w3.org/2000/svg\" height=\"24px\"viewBox=\"0 0 24 24\"\n",
              "       width=\"24px\">\n",
              "    <path d=\"M0 0h24v24H0V0z\" fill=\"none\"/>\n",
              "    <path d=\"M18.56 5.44l.94 2.06.94-2.06 2.06-.94-2.06-.94-.94-2.06-.94 2.06-2.06.94zm-11 1L8.5 8.5l.94-2.06 2.06-.94-2.06-.94L8.5 2.5l-.94 2.06-2.06.94zm10 10l.94 2.06.94-2.06 2.06-.94-2.06-.94-.94-2.06-.94 2.06-2.06.94z\"/><path d=\"M17.41 7.96l-1.37-1.37c-.4-.4-.92-.59-1.43-.59-.52 0-1.04.2-1.43.59L10.3 9.45l-7.72 7.72c-.78.78-.78 2.05 0 2.83L4 21.41c.39.39.9.59 1.41.59.51 0 1.02-.2 1.41-.59l7.78-7.78 2.81-2.81c.8-.78.8-2.07 0-2.86zM5.41 20L4 18.59l7.72-7.72 1.47 1.35L5.41 20z\"/>\n",
              "  </svg>\n",
              "      </button>\n",
              "      \n",
              "  <style>\n",
              "    .colab-df-container {\n",
              "      display:flex;\n",
              "      flex-wrap:wrap;\n",
              "      gap: 12px;\n",
              "    }\n",
              "\n",
              "    .colab-df-convert {\n",
              "      background-color: #E8F0FE;\n",
              "      border: none;\n",
              "      border-radius: 50%;\n",
              "      cursor: pointer;\n",
              "      display: none;\n",
              "      fill: #1967D2;\n",
              "      height: 32px;\n",
              "      padding: 0 0 0 0;\n",
              "      width: 32px;\n",
              "    }\n",
              "\n",
              "    .colab-df-convert:hover {\n",
              "      background-color: #E2EBFA;\n",
              "      box-shadow: 0px 1px 2px rgba(60, 64, 67, 0.3), 0px 1px 3px 1px rgba(60, 64, 67, 0.15);\n",
              "      fill: #174EA6;\n",
              "    }\n",
              "\n",
              "    [theme=dark] .colab-df-convert {\n",
              "      background-color: #3B4455;\n",
              "      fill: #D2E3FC;\n",
              "    }\n",
              "\n",
              "    [theme=dark] .colab-df-convert:hover {\n",
              "      background-color: #434B5C;\n",
              "      box-shadow: 0px 1px 3px 1px rgba(0, 0, 0, 0.15);\n",
              "      filter: drop-shadow(0px 1px 2px rgba(0, 0, 0, 0.3));\n",
              "      fill: #FFFFFF;\n",
              "    }\n",
              "  </style>\n",
              "\n",
              "      <script>\n",
              "        const buttonEl =\n",
              "          document.querySelector('#df-c4ebe097-6300-45d2-9fcc-9fe9397fc26a button.colab-df-convert');\n",
              "        buttonEl.style.display =\n",
              "          google.colab.kernel.accessAllowed ? 'block' : 'none';\n",
              "\n",
              "        async function convertToInteractive(key) {\n",
              "          const element = document.querySelector('#df-c4ebe097-6300-45d2-9fcc-9fe9397fc26a');\n",
              "          const dataTable =\n",
              "            await google.colab.kernel.invokeFunction('convertToInteractive',\n",
              "                                                     [key], {});\n",
              "          if (!dataTable) return;\n",
              "\n",
              "          const docLinkHtml = 'Like what you see? Visit the ' +\n",
              "            '<a target=\"_blank\" href=https://colab.research.google.com/notebooks/data_table.ipynb>data table notebook</a>'\n",
              "            + ' to learn more about interactive tables.';\n",
              "          element.innerHTML = '';\n",
              "          dataTable['output_type'] = 'display_data';\n",
              "          await google.colab.output.renderOutput(dataTable, element);\n",
              "          const docLink = document.createElement('div');\n",
              "          docLink.innerHTML = docLinkHtml;\n",
              "          element.appendChild(docLink);\n",
              "        }\n",
              "      </script>\n",
              "    </div>\n",
              "  </div>\n",
              "  "
            ]
          },
          "metadata": {},
          "execution_count": 10
        }
      ]
    },
    {
      "cell_type": "code",
      "source": [
        "df.shape"
      ],
      "metadata": {
        "colab": {
          "base_uri": "https://localhost:8080/"
        },
        "id": "HmKKqyqQ0fsp",
        "outputId": "53aaf6bd-f5e1-4222-fe42-dcebdbb4b26e"
      },
      "execution_count": null,
      "outputs": [
        {
          "output_type": "execute_result",
          "data": {
            "text/plain": [
              "(1504150, 33)"
            ]
          },
          "metadata": {},
          "execution_count": 11
        }
      ]
    },
    {
      "cell_type": "markdown",
      "source": [
        "There are more than 1.5 million rows of data along with 33 columns"
      ],
      "metadata": {
        "id": "sebF1xUG-5mL"
      }
    },
    {
      "cell_type": "code",
      "source": [
        "df.info()"
      ],
      "metadata": {
        "colab": {
          "base_uri": "https://localhost:8080/"
        },
        "id": "Gj9apFch-V5W",
        "outputId": "ad7122dc-9131-4e9e-c6eb-ebb762a68055"
      },
      "execution_count": null,
      "outputs": [
        {
          "output_type": "stream",
          "name": "stdout",
          "text": [
            "<class 'pandas.core.frame.DataFrame'>\n",
            "RangeIndex: 1504150 entries, 0 to 1504149\n",
            "Data columns (total 33 columns):\n",
            " #   Column                                       Non-Null Count    Dtype  \n",
            "---  ------                                       --------------    -----  \n",
            " 0   Unnamed: 0                                   1504150 non-null  int64  \n",
            " 1   Accident_Index                               1504150 non-null  object \n",
            " 2   Location_Easting_OSGR                        1504049 non-null  float64\n",
            " 3   Location_Northing_OSGR                       1504150 non-null  float64\n",
            " 4   Longitude                                    1504049 non-null  float64\n",
            " 5   Latitude                                     1504150 non-null  float64\n",
            " 6   Police_Force                                 1504150 non-null  int64  \n",
            " 7   Accident_Severity                            1504150 non-null  int64  \n",
            " 8   Number_of_Vehicles                           1504150 non-null  int64  \n",
            " 9   Number_of_Casualties                         1504150 non-null  int64  \n",
            " 10  Date                                         1504150 non-null  object \n",
            " 11  Day_of_Week                                  1504150 non-null  int64  \n",
            " 12  Time                                         1504033 non-null  object \n",
            " 13  Local_Authority_(District)                   1504150 non-null  int64  \n",
            " 14  Local_Authority_(Highway)                    1504150 non-null  object \n",
            " 15  1st_Road_Class                               1504150 non-null  int64  \n",
            " 16  1st_Road_Number                              1504150 non-null  int64  \n",
            " 17  Road_Type                                    1504150 non-null  object \n",
            " 18  Speed_limit                                  1504150 non-null  int64  \n",
            " 19  Junction_Control                             1504150 non-null  object \n",
            " 20  2nd_Road_Class                               1504150 non-null  int64  \n",
            " 21  2nd_Road_Number                              1504150 non-null  int64  \n",
            " 22  Pedestrian_Crossing-Human_Control            1504133 non-null  object \n",
            " 23  Pedestrian_Crossing-Physical_Facilities      1504116 non-null  object \n",
            " 24  Light_Conditions                             1504150 non-null  object \n",
            " 25  Weather_Conditions                           1504150 non-null  object \n",
            " 26  Road_Surface_Conditions                      1504150 non-null  object \n",
            " 27  Special_Conditions_at_Site                   1504150 non-null  object \n",
            " 28  Carriageway_Hazards                          1504150 non-null  object \n",
            " 29  Urban_or_Rural_Area                          1504150 non-null  int64  \n",
            " 30  Did_Police_Officer_Attend_Scene_of_Accident  1504150 non-null  object \n",
            " 31  LSOA_of_Accident_Location                    1395912 non-null  object \n",
            " 32  Year                                         1504150 non-null  int64  \n",
            "dtypes: float64(4), int64(14), object(15)\n",
            "memory usage: 378.7+ MB\n"
          ]
        }
      ]
    },
    {
      "cell_type": "code",
      "source": [
        "df.describe()"
      ],
      "metadata": {
        "colab": {
          "base_uri": "https://localhost:8080/",
          "height": 364
        },
        "id": "L7vX1VXA-VxP",
        "outputId": "64bf1bb1-0c63-4560-ef7c-591cc1b10a22"
      },
      "execution_count": null,
      "outputs": [
        {
          "output_type": "execute_result",
          "data": {
            "text/plain": [
              "         Unnamed: 0  Location_Easting_OSGR  Location_Northing_OSGR  \\\n",
              "count  1.504150e+06           1.504049e+06            1.504150e+06   \n",
              "mean   2.530433e+05           4.396214e+05            3.001382e+05   \n",
              "std    1.489162e+05           9.511616e+04            1.610218e+05   \n",
              "min    0.000000e+00           6.495000e+04            0.000000e+00   \n",
              "25%    1.253452e+05           3.750600e+05            1.782600e+05   \n",
              "50%    2.506910e+05           4.399600e+05            2.688000e+05   \n",
              "75%    3.760370e+05           5.230600e+05            3.981500e+05   \n",
              "max    5.700100e+05           6.553700e+05            1.208800e+06   \n",
              "\n",
              "          Longitude      Latitude  Police_Force  Accident_Severity  \\\n",
              "count  1.504049e+06  1.504150e+06  1.504150e+06       1.504150e+06   \n",
              "mean  -1.436625e+00  5.258587e+01  3.020536e+01       2.838190e+00   \n",
              "std    1.398078e+00  1.512524e+00  2.551603e+01       4.018423e-01   \n",
              "min   -7.516225e+00  0.000000e+00  1.000000e+00       1.000000e+00   \n",
              "25%   -2.373902e+00  5.149009e+01  6.000000e+00       3.000000e+00   \n",
              "50%   -1.403714e+00  5.230888e+01  3.000000e+01       3.000000e+00   \n",
              "75%   -2.215100e-01  5.347855e+01  4.500000e+01       3.000000e+00   \n",
              "max    1.759398e+00  6.075754e+01  9.800000e+01       3.000000e+00   \n",
              "\n",
              "       Number_of_Vehicles  Number_of_Casualties   Day_of_Week  \\\n",
              "count        1.504150e+06          1.504150e+06  1.504150e+06   \n",
              "mean         1.831606e+00          1.350960e+00  4.118607e+00   \n",
              "std          7.147586e-01          8.253345e-01  1.924405e+00   \n",
              "min          1.000000e+00          1.000000e+00  1.000000e+00   \n",
              "25%          1.000000e+00          1.000000e+00  2.000000e+00   \n",
              "50%          2.000000e+00          1.000000e+00  4.000000e+00   \n",
              "75%          2.000000e+00          1.000000e+00  6.000000e+00   \n",
              "max          6.700000e+01          9.300000e+01  7.000000e+00   \n",
              "\n",
              "       Local_Authority_(District)  1st_Road_Class  1st_Road_Number  \\\n",
              "count                1.504150e+06    1.504150e+06     1.504150e+06   \n",
              "mean                 3.476149e+02    4.087999e+00     1.009919e+03   \n",
              "std                  2.594292e+02    1.428936e+00     1.823518e+03   \n",
              "min                  1.000000e+00    1.000000e+00    -1.000000e+00   \n",
              "25%                  1.100000e+02    3.000000e+00     0.000000e+00   \n",
              "50%                  3.220000e+02    4.000000e+00     1.290000e+02   \n",
              "75%                  5.180000e+02    6.000000e+00     7.250000e+02   \n",
              "max                  9.410000e+02    6.000000e+00     9.999000e+03   \n",
              "\n",
              "        Speed_limit  2nd_Road_Class  2nd_Road_Number  Urban_or_Rural_Area  \\\n",
              "count  1.504150e+06    1.504150e+06     1.504150e+06         1.504150e+06   \n",
              "mean   3.900540e+01    2.675084e+00     3.815684e+02         1.353871e+00   \n",
              "std    1.413993e+01    3.205539e+00     1.302555e+03         4.783534e-01   \n",
              "min    1.000000e+01   -1.000000e+00    -1.000000e+00         1.000000e+00   \n",
              "25%    3.000000e+01   -1.000000e+00     0.000000e+00         1.000000e+00   \n",
              "50%    3.000000e+01    3.000000e+00     0.000000e+00         1.000000e+00   \n",
              "75%    5.000000e+01    6.000000e+00     0.000000e+00         2.000000e+00   \n",
              "max    7.000000e+01    6.000000e+00     9.999000e+03         3.000000e+00   \n",
              "\n",
              "               Year  \n",
              "count  1.504150e+06  \n",
              "mean   2.009370e+03  \n",
              "std    3.013497e+00  \n",
              "min    2.005000e+03  \n",
              "25%    2.006000e+03  \n",
              "50%    2.010000e+03  \n",
              "75%    2.012000e+03  \n",
              "max    2.014000e+03  "
            ],
            "text/html": [
              "\n",
              "  <div id=\"df-12a6da66-da4d-4ad8-96fa-98253086fde0\">\n",
              "    <div class=\"colab-df-container\">\n",
              "      <div>\n",
              "<style scoped>\n",
              "    .dataframe tbody tr th:only-of-type {\n",
              "        vertical-align: middle;\n",
              "    }\n",
              "\n",
              "    .dataframe tbody tr th {\n",
              "        vertical-align: top;\n",
              "    }\n",
              "\n",
              "    .dataframe thead th {\n",
              "        text-align: right;\n",
              "    }\n",
              "</style>\n",
              "<table border=\"1\" class=\"dataframe\">\n",
              "  <thead>\n",
              "    <tr style=\"text-align: right;\">\n",
              "      <th></th>\n",
              "      <th>Unnamed: 0</th>\n",
              "      <th>Location_Easting_OSGR</th>\n",
              "      <th>Location_Northing_OSGR</th>\n",
              "      <th>Longitude</th>\n",
              "      <th>Latitude</th>\n",
              "      <th>Police_Force</th>\n",
              "      <th>Accident_Severity</th>\n",
              "      <th>Number_of_Vehicles</th>\n",
              "      <th>Number_of_Casualties</th>\n",
              "      <th>Day_of_Week</th>\n",
              "      <th>Local_Authority_(District)</th>\n",
              "      <th>1st_Road_Class</th>\n",
              "      <th>1st_Road_Number</th>\n",
              "      <th>Speed_limit</th>\n",
              "      <th>2nd_Road_Class</th>\n",
              "      <th>2nd_Road_Number</th>\n",
              "      <th>Urban_or_Rural_Area</th>\n",
              "      <th>Year</th>\n",
              "    </tr>\n",
              "  </thead>\n",
              "  <tbody>\n",
              "    <tr>\n",
              "      <th>count</th>\n",
              "      <td>1.504150e+06</td>\n",
              "      <td>1.504049e+06</td>\n",
              "      <td>1.504150e+06</td>\n",
              "      <td>1.504049e+06</td>\n",
              "      <td>1.504150e+06</td>\n",
              "      <td>1.504150e+06</td>\n",
              "      <td>1.504150e+06</td>\n",
              "      <td>1.504150e+06</td>\n",
              "      <td>1.504150e+06</td>\n",
              "      <td>1.504150e+06</td>\n",
              "      <td>1.504150e+06</td>\n",
              "      <td>1.504150e+06</td>\n",
              "      <td>1.504150e+06</td>\n",
              "      <td>1.504150e+06</td>\n",
              "      <td>1.504150e+06</td>\n",
              "      <td>1.504150e+06</td>\n",
              "      <td>1.504150e+06</td>\n",
              "      <td>1.504150e+06</td>\n",
              "    </tr>\n",
              "    <tr>\n",
              "      <th>mean</th>\n",
              "      <td>2.530433e+05</td>\n",
              "      <td>4.396214e+05</td>\n",
              "      <td>3.001382e+05</td>\n",
              "      <td>-1.436625e+00</td>\n",
              "      <td>5.258587e+01</td>\n",
              "      <td>3.020536e+01</td>\n",
              "      <td>2.838190e+00</td>\n",
              "      <td>1.831606e+00</td>\n",
              "      <td>1.350960e+00</td>\n",
              "      <td>4.118607e+00</td>\n",
              "      <td>3.476149e+02</td>\n",
              "      <td>4.087999e+00</td>\n",
              "      <td>1.009919e+03</td>\n",
              "      <td>3.900540e+01</td>\n",
              "      <td>2.675084e+00</td>\n",
              "      <td>3.815684e+02</td>\n",
              "      <td>1.353871e+00</td>\n",
              "      <td>2.009370e+03</td>\n",
              "    </tr>\n",
              "    <tr>\n",
              "      <th>std</th>\n",
              "      <td>1.489162e+05</td>\n",
              "      <td>9.511616e+04</td>\n",
              "      <td>1.610218e+05</td>\n",
              "      <td>1.398078e+00</td>\n",
              "      <td>1.512524e+00</td>\n",
              "      <td>2.551603e+01</td>\n",
              "      <td>4.018423e-01</td>\n",
              "      <td>7.147586e-01</td>\n",
              "      <td>8.253345e-01</td>\n",
              "      <td>1.924405e+00</td>\n",
              "      <td>2.594292e+02</td>\n",
              "      <td>1.428936e+00</td>\n",
              "      <td>1.823518e+03</td>\n",
              "      <td>1.413993e+01</td>\n",
              "      <td>3.205539e+00</td>\n",
              "      <td>1.302555e+03</td>\n",
              "      <td>4.783534e-01</td>\n",
              "      <td>3.013497e+00</td>\n",
              "    </tr>\n",
              "    <tr>\n",
              "      <th>min</th>\n",
              "      <td>0.000000e+00</td>\n",
              "      <td>6.495000e+04</td>\n",
              "      <td>0.000000e+00</td>\n",
              "      <td>-7.516225e+00</td>\n",
              "      <td>0.000000e+00</td>\n",
              "      <td>1.000000e+00</td>\n",
              "      <td>1.000000e+00</td>\n",
              "      <td>1.000000e+00</td>\n",
              "      <td>1.000000e+00</td>\n",
              "      <td>1.000000e+00</td>\n",
              "      <td>1.000000e+00</td>\n",
              "      <td>1.000000e+00</td>\n",
              "      <td>-1.000000e+00</td>\n",
              "      <td>1.000000e+01</td>\n",
              "      <td>-1.000000e+00</td>\n",
              "      <td>-1.000000e+00</td>\n",
              "      <td>1.000000e+00</td>\n",
              "      <td>2.005000e+03</td>\n",
              "    </tr>\n",
              "    <tr>\n",
              "      <th>25%</th>\n",
              "      <td>1.253452e+05</td>\n",
              "      <td>3.750600e+05</td>\n",
              "      <td>1.782600e+05</td>\n",
              "      <td>-2.373902e+00</td>\n",
              "      <td>5.149009e+01</td>\n",
              "      <td>6.000000e+00</td>\n",
              "      <td>3.000000e+00</td>\n",
              "      <td>1.000000e+00</td>\n",
              "      <td>1.000000e+00</td>\n",
              "      <td>2.000000e+00</td>\n",
              "      <td>1.100000e+02</td>\n",
              "      <td>3.000000e+00</td>\n",
              "      <td>0.000000e+00</td>\n",
              "      <td>3.000000e+01</td>\n",
              "      <td>-1.000000e+00</td>\n",
              "      <td>0.000000e+00</td>\n",
              "      <td>1.000000e+00</td>\n",
              "      <td>2.006000e+03</td>\n",
              "    </tr>\n",
              "    <tr>\n",
              "      <th>50%</th>\n",
              "      <td>2.506910e+05</td>\n",
              "      <td>4.399600e+05</td>\n",
              "      <td>2.688000e+05</td>\n",
              "      <td>-1.403714e+00</td>\n",
              "      <td>5.230888e+01</td>\n",
              "      <td>3.000000e+01</td>\n",
              "      <td>3.000000e+00</td>\n",
              "      <td>2.000000e+00</td>\n",
              "      <td>1.000000e+00</td>\n",
              "      <td>4.000000e+00</td>\n",
              "      <td>3.220000e+02</td>\n",
              "      <td>4.000000e+00</td>\n",
              "      <td>1.290000e+02</td>\n",
              "      <td>3.000000e+01</td>\n",
              "      <td>3.000000e+00</td>\n",
              "      <td>0.000000e+00</td>\n",
              "      <td>1.000000e+00</td>\n",
              "      <td>2.010000e+03</td>\n",
              "    </tr>\n",
              "    <tr>\n",
              "      <th>75%</th>\n",
              "      <td>3.760370e+05</td>\n",
              "      <td>5.230600e+05</td>\n",
              "      <td>3.981500e+05</td>\n",
              "      <td>-2.215100e-01</td>\n",
              "      <td>5.347855e+01</td>\n",
              "      <td>4.500000e+01</td>\n",
              "      <td>3.000000e+00</td>\n",
              "      <td>2.000000e+00</td>\n",
              "      <td>1.000000e+00</td>\n",
              "      <td>6.000000e+00</td>\n",
              "      <td>5.180000e+02</td>\n",
              "      <td>6.000000e+00</td>\n",
              "      <td>7.250000e+02</td>\n",
              "      <td>5.000000e+01</td>\n",
              "      <td>6.000000e+00</td>\n",
              "      <td>0.000000e+00</td>\n",
              "      <td>2.000000e+00</td>\n",
              "      <td>2.012000e+03</td>\n",
              "    </tr>\n",
              "    <tr>\n",
              "      <th>max</th>\n",
              "      <td>5.700100e+05</td>\n",
              "      <td>6.553700e+05</td>\n",
              "      <td>1.208800e+06</td>\n",
              "      <td>1.759398e+00</td>\n",
              "      <td>6.075754e+01</td>\n",
              "      <td>9.800000e+01</td>\n",
              "      <td>3.000000e+00</td>\n",
              "      <td>6.700000e+01</td>\n",
              "      <td>9.300000e+01</td>\n",
              "      <td>7.000000e+00</td>\n",
              "      <td>9.410000e+02</td>\n",
              "      <td>6.000000e+00</td>\n",
              "      <td>9.999000e+03</td>\n",
              "      <td>7.000000e+01</td>\n",
              "      <td>6.000000e+00</td>\n",
              "      <td>9.999000e+03</td>\n",
              "      <td>3.000000e+00</td>\n",
              "      <td>2.014000e+03</td>\n",
              "    </tr>\n",
              "  </tbody>\n",
              "</table>\n",
              "</div>\n",
              "      <button class=\"colab-df-convert\" onclick=\"convertToInteractive('df-12a6da66-da4d-4ad8-96fa-98253086fde0')\"\n",
              "              title=\"Convert this dataframe to an interactive table.\"\n",
              "              style=\"display:none;\">\n",
              "        \n",
              "  <svg xmlns=\"http://www.w3.org/2000/svg\" height=\"24px\"viewBox=\"0 0 24 24\"\n",
              "       width=\"24px\">\n",
              "    <path d=\"M0 0h24v24H0V0z\" fill=\"none\"/>\n",
              "    <path d=\"M18.56 5.44l.94 2.06.94-2.06 2.06-.94-2.06-.94-.94-2.06-.94 2.06-2.06.94zm-11 1L8.5 8.5l.94-2.06 2.06-.94-2.06-.94L8.5 2.5l-.94 2.06-2.06.94zm10 10l.94 2.06.94-2.06 2.06-.94-2.06-.94-.94-2.06-.94 2.06-2.06.94z\"/><path d=\"M17.41 7.96l-1.37-1.37c-.4-.4-.92-.59-1.43-.59-.52 0-1.04.2-1.43.59L10.3 9.45l-7.72 7.72c-.78.78-.78 2.05 0 2.83L4 21.41c.39.39.9.59 1.41.59.51 0 1.02-.2 1.41-.59l7.78-7.78 2.81-2.81c.8-.78.8-2.07 0-2.86zM5.41 20L4 18.59l7.72-7.72 1.47 1.35L5.41 20z\"/>\n",
              "  </svg>\n",
              "      </button>\n",
              "      \n",
              "  <style>\n",
              "    .colab-df-container {\n",
              "      display:flex;\n",
              "      flex-wrap:wrap;\n",
              "      gap: 12px;\n",
              "    }\n",
              "\n",
              "    .colab-df-convert {\n",
              "      background-color: #E8F0FE;\n",
              "      border: none;\n",
              "      border-radius: 50%;\n",
              "      cursor: pointer;\n",
              "      display: none;\n",
              "      fill: #1967D2;\n",
              "      height: 32px;\n",
              "      padding: 0 0 0 0;\n",
              "      width: 32px;\n",
              "    }\n",
              "\n",
              "    .colab-df-convert:hover {\n",
              "      background-color: #E2EBFA;\n",
              "      box-shadow: 0px 1px 2px rgba(60, 64, 67, 0.3), 0px 1px 3px 1px rgba(60, 64, 67, 0.15);\n",
              "      fill: #174EA6;\n",
              "    }\n",
              "\n",
              "    [theme=dark] .colab-df-convert {\n",
              "      background-color: #3B4455;\n",
              "      fill: #D2E3FC;\n",
              "    }\n",
              "\n",
              "    [theme=dark] .colab-df-convert:hover {\n",
              "      background-color: #434B5C;\n",
              "      box-shadow: 0px 1px 3px 1px rgba(0, 0, 0, 0.15);\n",
              "      filter: drop-shadow(0px 1px 2px rgba(0, 0, 0, 0.3));\n",
              "      fill: #FFFFFF;\n",
              "    }\n",
              "  </style>\n",
              "\n",
              "      <script>\n",
              "        const buttonEl =\n",
              "          document.querySelector('#df-12a6da66-da4d-4ad8-96fa-98253086fde0 button.colab-df-convert');\n",
              "        buttonEl.style.display =\n",
              "          google.colab.kernel.accessAllowed ? 'block' : 'none';\n",
              "\n",
              "        async function convertToInteractive(key) {\n",
              "          const element = document.querySelector('#df-12a6da66-da4d-4ad8-96fa-98253086fde0');\n",
              "          const dataTable =\n",
              "            await google.colab.kernel.invokeFunction('convertToInteractive',\n",
              "                                                     [key], {});\n",
              "          if (!dataTable) return;\n",
              "\n",
              "          const docLinkHtml = 'Like what you see? Visit the ' +\n",
              "            '<a target=\"_blank\" href=https://colab.research.google.com/notebooks/data_table.ipynb>data table notebook</a>'\n",
              "            + ' to learn more about interactive tables.';\n",
              "          element.innerHTML = '';\n",
              "          dataTable['output_type'] = 'display_data';\n",
              "          await google.colab.output.renderOutput(dataTable, element);\n",
              "          const docLink = document.createElement('div');\n",
              "          docLink.innerHTML = docLinkHtml;\n",
              "          element.appendChild(docLink);\n",
              "        }\n",
              "      </script>\n",
              "    </div>\n",
              "  </div>\n",
              "  "
            ]
          },
          "metadata": {},
          "execution_count": 13
        }
      ]
    },
    {
      "cell_type": "code",
      "source": [
        "df.dtypes.unique()"
      ],
      "metadata": {
        "colab": {
          "base_uri": "https://localhost:8080/"
        },
        "id": "ATkrzPF7U2Pf",
        "outputId": "e7e2ad49-0628-4bfa-849c-34b0dca1d81e"
      },
      "execution_count": null,
      "outputs": [
        {
          "output_type": "execute_result",
          "data": {
            "text/plain": [
              "array([dtype('int64'), dtype('O'), dtype('float64')], dtype=object)"
            ]
          },
          "metadata": {},
          "execution_count": 14
        }
      ]
    },
    {
      "cell_type": "code",
      "source": [
        "numeric_data = ['int64','float64']\n",
        "len(df.select_dtypes(include = numeric_data).columns)"
      ],
      "metadata": {
        "colab": {
          "base_uri": "https://localhost:8080/"
        },
        "id": "eovXog81Xre4",
        "outputId": "18bcbc0a-8c39-4eca-bd69-9b3277e70ea0"
      },
      "execution_count": null,
      "outputs": [
        {
          "output_type": "execute_result",
          "data": {
            "text/plain": [
              "18"
            ]
          },
          "metadata": {},
          "execution_count": 15
        }
      ]
    },
    {
      "cell_type": "markdown",
      "source": [
        "There are 4 datatypes in the dataset, two of which ( float64 and int64 ) are numeric. There are 18 columns that contain numeric data"
      ],
      "metadata": {
        "id": "jZUBKoSQX7lf"
      }
    },
    {
      "cell_type": "markdown",
      "source": [
        "### Analysing the missing values"
      ],
      "metadata": {
        "id": "2Add76lIZJfp"
      }
    },
    {
      "cell_type": "code",
      "source": [
        "df.isna().sum()"
      ],
      "metadata": {
        "colab": {
          "base_uri": "https://localhost:8080/"
        },
        "id": "BOQ7B8zvXp5a",
        "outputId": "988ffe4a-0f45-43cf-ed33-3bc096648278"
      },
      "execution_count": null,
      "outputs": [
        {
          "output_type": "execute_result",
          "data": {
            "text/plain": [
              "Unnamed: 0                                          0\n",
              "Accident_Index                                      0\n",
              "Location_Easting_OSGR                             101\n",
              "Location_Northing_OSGR                              0\n",
              "Longitude                                         101\n",
              "Latitude                                            0\n",
              "Police_Force                                        0\n",
              "Accident_Severity                                   0\n",
              "Number_of_Vehicles                                  0\n",
              "Number_of_Casualties                                0\n",
              "Date                                                0\n",
              "Day_of_Week                                         0\n",
              "Time                                              117\n",
              "Local_Authority_(District)                          0\n",
              "Local_Authority_(Highway)                           0\n",
              "1st_Road_Class                                      0\n",
              "1st_Road_Number                                     0\n",
              "Road_Type                                           0\n",
              "Speed_limit                                         0\n",
              "Junction_Control                                    0\n",
              "2nd_Road_Class                                      0\n",
              "2nd_Road_Number                                     0\n",
              "Pedestrian_Crossing-Human_Control                  17\n",
              "Pedestrian_Crossing-Physical_Facilities            34\n",
              "Light_Conditions                                    0\n",
              "Weather_Conditions                                  0\n",
              "Road_Surface_Conditions                             0\n",
              "Special_Conditions_at_Site                          0\n",
              "Carriageway_Hazards                                 0\n",
              "Urban_or_Rural_Area                                 0\n",
              "Did_Police_Officer_Attend_Scene_of_Accident         0\n",
              "LSOA_of_Accident_Location                      108238\n",
              "Year                                                0\n",
              "dtype: int64"
            ]
          },
          "metadata": {},
          "execution_count": 16
        }
      ]
    },
    {
      "cell_type": "markdown",
      "source": [
        "**Percentage of missing values**"
      ],
      "metadata": {
        "id": "3_tPHnTQZwVB"
      }
    },
    {
      "cell_type": "code",
      "source": [
        "df.isna().sum().sort_values(ascending = False)"
      ],
      "metadata": {
        "colab": {
          "base_uri": "https://localhost:8080/"
        },
        "id": "3q-TATIJZ7kE",
        "outputId": "9a5c9186-abb7-4005-f6f0-264d9012e44f"
      },
      "execution_count": null,
      "outputs": [
        {
          "output_type": "execute_result",
          "data": {
            "text/plain": [
              "LSOA_of_Accident_Location                      108238\n",
              "Time                                              117\n",
              "Location_Easting_OSGR                             101\n",
              "Longitude                                         101\n",
              "Pedestrian_Crossing-Physical_Facilities            34\n",
              "Pedestrian_Crossing-Human_Control                  17\n",
              "Unnamed: 0                                          0\n",
              "Light_Conditions                                    0\n",
              "2nd_Road_Class                                      0\n",
              "2nd_Road_Number                                     0\n",
              "Road_Surface_Conditions                             0\n",
              "Weather_Conditions                                  0\n",
              "Speed_limit                                         0\n",
              "Special_Conditions_at_Site                          0\n",
              "Carriageway_Hazards                                 0\n",
              "Urban_or_Rural_Area                                 0\n",
              "Did_Police_Officer_Attend_Scene_of_Accident         0\n",
              "Junction_Control                                    0\n",
              "1st_Road_Number                                     0\n",
              "Road_Type                                           0\n",
              "Accident_Index                                      0\n",
              "1st_Road_Class                                      0\n",
              "Local_Authority_(Highway)                           0\n",
              "Local_Authority_(District)                          0\n",
              "Day_of_Week                                         0\n",
              "Date                                                0\n",
              "Number_of_Casualties                                0\n",
              "Number_of_Vehicles                                  0\n",
              "Accident_Severity                                   0\n",
              "Police_Force                                        0\n",
              "Latitude                                            0\n",
              "Location_Northing_OSGR                              0\n",
              "Year                                                0\n",
              "dtype: int64"
            ]
          },
          "metadata": {},
          "execution_count": 17
        }
      ]
    },
    {
      "cell_type": "code",
      "source": [
        "na_percent = (df.isna().sum().sort_values(ascending = False)/len(df))*100\n",
        "na_percent"
      ],
      "metadata": {
        "colab": {
          "base_uri": "https://localhost:8080/"
        },
        "id": "awdbgmogaleZ",
        "outputId": "b30b446d-17be-4225-ca77-d9b4ce5d49b3"
      },
      "execution_count": null,
      "outputs": [
        {
          "output_type": "execute_result",
          "data": {
            "text/plain": [
              "LSOA_of_Accident_Location                      7.195958\n",
              "Time                                           0.007778\n",
              "Location_Easting_OSGR                          0.006715\n",
              "Longitude                                      0.006715\n",
              "Pedestrian_Crossing-Physical_Facilities        0.002260\n",
              "Pedestrian_Crossing-Human_Control              0.001130\n",
              "Unnamed: 0                                     0.000000\n",
              "Light_Conditions                               0.000000\n",
              "2nd_Road_Class                                 0.000000\n",
              "2nd_Road_Number                                0.000000\n",
              "Road_Surface_Conditions                        0.000000\n",
              "Weather_Conditions                             0.000000\n",
              "Speed_limit                                    0.000000\n",
              "Special_Conditions_at_Site                     0.000000\n",
              "Carriageway_Hazards                            0.000000\n",
              "Urban_or_Rural_Area                            0.000000\n",
              "Did_Police_Officer_Attend_Scene_of_Accident    0.000000\n",
              "Junction_Control                               0.000000\n",
              "1st_Road_Number                                0.000000\n",
              "Road_Type                                      0.000000\n",
              "Accident_Index                                 0.000000\n",
              "1st_Road_Class                                 0.000000\n",
              "Local_Authority_(Highway)                      0.000000\n",
              "Local_Authority_(District)                     0.000000\n",
              "Day_of_Week                                    0.000000\n",
              "Date                                           0.000000\n",
              "Number_of_Casualties                           0.000000\n",
              "Number_of_Vehicles                             0.000000\n",
              "Accident_Severity                              0.000000\n",
              "Police_Force                                   0.000000\n",
              "Latitude                                       0.000000\n",
              "Location_Northing_OSGR                         0.000000\n",
              "Year                                           0.000000\n",
              "dtype: float64"
            ]
          },
          "metadata": {},
          "execution_count": 18
        }
      ]
    },
    {
      "cell_type": "markdown",
      "source": [
        "most of the columns do not contain null values. So filtering out the columns that contain null values"
      ],
      "metadata": {
        "id": "qYPXtEsOe48S"
      }
    },
    {
      "cell_type": "code",
      "source": [
        "na_percent = na_percent[na_percent > 0]\n",
        "na_percent"
      ],
      "metadata": {
        "colab": {
          "base_uri": "https://localhost:8080/"
        },
        "id": "Cl1FZnVmc5zD",
        "outputId": "00541b4c-67aa-401e-acf4-25959851afda"
      },
      "execution_count": null,
      "outputs": [
        {
          "output_type": "execute_result",
          "data": {
            "text/plain": [
              "LSOA_of_Accident_Location                  7.195958\n",
              "Time                                       0.007778\n",
              "Location_Easting_OSGR                      0.006715\n",
              "Longitude                                  0.006715\n",
              "Pedestrian_Crossing-Physical_Facilities    0.002260\n",
              "Pedestrian_Crossing-Human_Control          0.001130\n",
              "dtype: float64"
            ]
          },
          "metadata": {},
          "execution_count": 19
        }
      ]
    },
    {
      "cell_type": "code",
      "source": [
        "na_percent.plot(kind = \"barh\", width = 0.9)"
      ],
      "metadata": {
        "colab": {
          "base_uri": "https://localhost:8080/",
          "height": 283
        },
        "id": "NTHQuJitiMfR",
        "outputId": "3285b2c3-417d-49e0-a30a-16ee43c311d5"
      },
      "execution_count": null,
      "outputs": [
        {
          "output_type": "execute_result",
          "data": {
            "text/plain": [
              "<matplotlib.axes._subplots.AxesSubplot at 0x7f73c4091f90>"
            ]
          },
          "metadata": {},
          "execution_count": 20
        },
        {
          "output_type": "display_data",
          "data": {
            "text/plain": [
              "<Figure size 432x288 with 1 Axes>"
            ],
            "image/png": "[encoded data removed]"
          },
          "metadata": {
            "needs_background": "light"
          }
        }
      ]
    },
    {
      "cell_type": "markdown",
      "source": [
        "There are 6 columns that contains null values. Compared to all the columns, only the Accident_location column has a lot of missing rows (~7%). The other columns with missing data do not even register on the graph.\n",
        "\n",
        "As NULL values are less as compared to size of whole data\n",
        "so, it is ideal to fill the null values with logically identified values from each feature."
      ],
      "metadata": {
        "id": "c3VM8bcCjCfP"
      }
    },
    {
      "cell_type": "code",
      "source": [
        "df['Pedestrian_Crossing-Human_Control'].value_counts()"
      ],
      "metadata": {
        "colab": {
          "base_uri": "https://localhost:8080/"
        },
        "id": "dlL1H-z5s6Ly",
        "outputId": "fb350763-5294-49e4-af78-1d95ca85e55a"
      },
      "execution_count": null,
      "outputs": [
        {
          "output_type": "execute_result",
          "data": {
            "text/plain": [
              "None within 50 metres                 1495269\n",
              "Control by other authorised person       5220\n",
              "Control by school crossing patrol        3644\n",
              "Name: Pedestrian_Crossing-Human_Control, dtype: int64"
            ]
          },
          "metadata": {},
          "execution_count": 21
        }
      ]
    },
    {
      "cell_type": "code",
      "source": [
        "df[\"LSOA_of_Accident_Location\"]"
      ],
      "metadata": {
        "colab": {
          "base_uri": "https://localhost:8080/"
        },
        "id": "5KE2JUBFO1C5",
        "outputId": "54e043b1-5b13-4b1b-a210-8c5a62d24df8"
      },
      "execution_count": null,
      "outputs": [
        {
          "output_type": "execute_result",
          "data": {
            "text/plain": [
              "0          E01002849\n",
              "1          E01002909\n",
              "2          E01002857\n",
              "3          E01002840\n",
              "4          E01002863\n",
              "             ...    \n",
              "1504145          NaN\n",
              "1504146          NaN\n",
              "1504147          NaN\n",
              "1504148          NaN\n",
              "1504149          NaN\n",
              "Name: LSOA_of_Accident_Location, Length: 1504150, dtype: object"
            ]
          },
          "metadata": {},
          "execution_count": 22
        }
      ]
    },
    {
      "cell_type": "code",
      "source": [
        "df['Pedestrian_Crossing-Human_Control'].fillna(value = 'Unknown' , inplace = True)\n",
        "df['Pedestrian_Crossing-Physical_Facilities'].fillna(value = 'Unknown' , inplace = True)\n",
        "df['Location_Easting_OSGR'].fillna(value = 0, inplace = True)\n",
        "df['Longitude'].fillna(value = 0, inplace = True)\n",
        "df[\"LSOA_of_Accident_Location\"].fillna(value = 'Unknown', inplace = True)"
      ],
      "metadata": {
        "id": "-s6mZm8jsvlQ"
      },
      "execution_count": null,
      "outputs": []
    },
    {
      "cell_type": "code",
      "source": [
        "df[[\"Date\",\"Time\"]].head(3)"
      ],
      "metadata": {
        "colab": {
          "base_uri": "https://localhost:8080/",
          "height": 143
        },
        "id": "wcBzKZTbE1VU",
        "outputId": "5bc98152-5f66-4af7-c28c-f92f0ae6363e"
      },
      "execution_count": null,
      "outputs": [
        {
          "output_type": "execute_result",
          "data": {
            "text/plain": [
              "         Date   Time\n",
              "0  04/01/2005  17:42\n",
              "1  05/01/2005  17:36\n",
              "2  06/01/2005  00:15"
            ],
            "text/html": [
              "\n",
              "  <div id=\"df-b443db80-1c43-49f6-94df-4fc8e9afe9c6\">\n",
              "    <div class=\"colab-df-container\">\n",
              "      <div>\n",
              "<style scoped>\n",
              "    .dataframe tbody tr th:only-of-type {\n",
              "        vertical-align: middle;\n",
              "    }\n",
              "\n",
              "    .dataframe tbody tr th {\n",
              "        vertical-align: top;\n",
              "    }\n",
              "\n",
              "    .dataframe thead th {\n",
              "        text-align: right;\n",
              "    }\n",
              "</style>\n",
              "<table border=\"1\" class=\"dataframe\">\n",
              "  <thead>\n",
              "    <tr style=\"text-align: right;\">\n",
              "      <th></th>\n",
              "      <th>Date</th>\n",
              "      <th>Time</th>\n",
              "    </tr>\n",
              "  </thead>\n",
              "  <tbody>\n",
              "    <tr>\n",
              "      <th>0</th>\n",
              "      <td>04/01/2005</td>\n",
              "      <td>17:42</td>\n",
              "    </tr>\n",
              "    <tr>\n",
              "      <th>1</th>\n",
              "      <td>05/01/2005</td>\n",
              "      <td>17:36</td>\n",
              "    </tr>\n",
              "    <tr>\n",
              "      <th>2</th>\n",
              "      <td>06/01/2005</td>\n",
              "      <td>00:15</td>\n",
              "    </tr>\n",
              "  </tbody>\n",
              "</table>\n",
              "</div>\n",
              "      <button class=\"colab-df-convert\" onclick=\"convertToInteractive('df-b443db80-1c43-49f6-94df-4fc8e9afe9c6')\"\n",
              "              title=\"Convert this dataframe to an interactive table.\"\n",
              "              style=\"display:none;\">\n",
              "        \n",
              "  <svg xmlns=\"http://www.w3.org/2000/svg\" height=\"24px\"viewBox=\"0 0 24 24\"\n",
              "       width=\"24px\">\n",
              "    <path d=\"M0 0h24v24H0V0z\" fill=\"none\"/>\n",
              "    <path d=\"M18.56 5.44l.94 2.06.94-2.06 2.06-.94-2.06-.94-.94-2.06-.94 2.06-2.06.94zm-11 1L8.5 8.5l.94-2.06 2.06-.94-2.06-.94L8.5 2.5l-.94 2.06-2.06.94zm10 10l.94 2.06.94-2.06 2.06-.94-2.06-.94-.94-2.06-.94 2.06-2.06.94z\"/><path d=\"M17.41 7.96l-1.37-1.37c-.4-.4-.92-.59-1.43-.59-.52 0-1.04.2-1.43.59L10.3 9.45l-7.72 7.72c-.78.78-.78 2.05 0 2.83L4 21.41c.39.39.9.59 1.41.59.51 0 1.02-.2 1.41-.59l7.78-7.78 2.81-2.81c.8-.78.8-2.07 0-2.86zM5.41 20L4 18.59l7.72-7.72 1.47 1.35L5.41 20z\"/>\n",
              "  </svg>\n",
              "      </button>\n",
              "      \n",
              "  <style>\n",
              "    .colab-df-container {\n",
              "      display:flex;\n",
              "      flex-wrap:wrap;\n",
              "      gap: 12px;\n",
              "    }\n",
              "\n",
              "    .colab-df-convert {\n",
              "      background-color: #E8F0FE;\n",
              "      border: none;\n",
              "      border-radius: 50%;\n",
              "      cursor: pointer;\n",
              "      display: none;\n",
              "      fill: #1967D2;\n",
              "      height: 32px;\n",
              "      padding: 0 0 0 0;\n",
              "      width: 32px;\n",
              "    }\n",
              "\n",
              "    .colab-df-convert:hover {\n",
              "      background-color: #E2EBFA;\n",
              "      box-shadow: 0px 1px 2px rgba(60, 64, 67, 0.3), 0px 1px 3px 1px rgba(60, 64, 67, 0.15);\n",
              "      fill: #174EA6;\n",
              "    }\n",
              "\n",
              "    [theme=dark] .colab-df-convert {\n",
              "      background-color: #3B4455;\n",
              "      fill: #D2E3FC;\n",
              "    }\n",
              "\n",
              "    [theme=dark] .colab-df-convert:hover {\n",
              "      background-color: #434B5C;\n",
              "      box-shadow: 0px 1px 3px 1px rgba(0, 0, 0, 0.15);\n",
              "      filter: drop-shadow(0px 1px 2px rgba(0, 0, 0, 0.3));\n",
              "      fill: #FFFFFF;\n",
              "    }\n",
              "  </style>\n",
              "\n",
              "      <script>\n",
              "        const buttonEl =\n",
              "          document.querySelector('#df-b443db80-1c43-49f6-94df-4fc8e9afe9c6 button.colab-df-convert');\n",
              "        buttonEl.style.display =\n",
              "          google.colab.kernel.accessAllowed ? 'block' : 'none';\n",
              "\n",
              "        async function convertToInteractive(key) {\n",
              "          const element = document.querySelector('#df-b443db80-1c43-49f6-94df-4fc8e9afe9c6');\n",
              "          const dataTable =\n",
              "            await google.colab.kernel.invokeFunction('convertToInteractive',\n",
              "                                                     [key], {});\n",
              "          if (!dataTable) return;\n",
              "\n",
              "          const docLinkHtml = 'Like what you see? Visit the ' +\n",
              "            '<a target=\"_blank\" href=https://colab.research.google.com/notebooks/data_table.ipynb>data table notebook</a>'\n",
              "            + ' to learn more about interactive tables.';\n",
              "          element.innerHTML = '';\n",
              "          dataTable['output_type'] = 'display_data';\n",
              "          await google.colab.output.renderOutput(dataTable, element);\n",
              "          const docLink = document.createElement('div');\n",
              "          docLink.innerHTML = docLinkHtml;\n",
              "          element.appendChild(docLink);\n",
              "        }\n",
              "      </script>\n",
              "    </div>\n",
              "  </div>\n",
              "  "
            ]
          },
          "metadata": {},
          "execution_count": 24
        }
      ]
    },
    {
      "cell_type": "code",
      "source": [
        "df.dtypes[['Time', 'Date']]"
      ],
      "metadata": {
        "colab": {
          "base_uri": "https://localhost:8080/"
        },
        "id": "uO3xwYLG-q-I",
        "outputId": "3c0e7442-5041-4778-a581-20a9fef0f4e4"
      },
      "execution_count": null,
      "outputs": [
        {
          "output_type": "execute_result",
          "data": {
            "text/plain": [
              "Time    object\n",
              "Date    object\n",
              "dtype: object"
            ]
          },
          "metadata": {},
          "execution_count": 25
        }
      ]
    },
    {
      "cell_type": "markdown",
      "source": [
        "## **Exploratory Analysis and Visualization**"
      ],
      "metadata": {
        "id": "u8pl0JG-mrbV"
      }
    },
    {
      "cell_type": "markdown",
      "source": [
        "### **Columns to analyse**\n",
        "1. Day_of_week\n",
        "2. Year\n",
        "3. Time\n",
        "4. Number_of_Casualties \n",
        "5. Accident_Severity\n",
        "6. Weather_conditions\n",
        "7. Light_conditions\n"
      ],
      "metadata": {
        "id": "rJeY0IMYnNik"
      }
    },
    {
      "cell_type": "markdown",
      "source": [
        "### **Questions to Ponder**\n",
        "\n",
        "\n",
        "1. What is the trend for number of accidents per year ?\n",
        "2. Which time of the day do most accidents occur?\n",
        "3. What is the distribution of accidents through the various days of the week ?\n",
        "4. Breakup of the severity of accidents and the casualities per severity level\n",
        "5. Importance of Light and Weather conditions in predicting accident severity\n"
      ],
      "metadata": {
        "id": "GnKsGgp9Un3m"
      }
    },
    {
      "cell_type": "markdown",
      "source": [
        "### **1. Accident trends per year**"
      ],
      "metadata": {
        "id": "o0j1Kcw70DNP"
      }
    },
    {
      "cell_type": "code",
      "source": [
        "df[\"Year\"].unique()"
      ],
      "metadata": {
        "id": "iDvDKVEg-Vp3",
        "colab": {
          "base_uri": "https://localhost:8080/"
        },
        "outputId": "9cbce5e9-fa5c-4f08-a709-71f2c74b2d7a"
      },
      "execution_count": null,
      "outputs": [
        {
          "output_type": "execute_result",
          "data": {
            "text/plain": [
              "array([2005, 2006, 2007, 2009, 2010, 2011, 2012, 2013, 2014])"
            ]
          },
          "metadata": {},
          "execution_count": 26
        }
      ]
    },
    {
      "cell_type": "code",
      "source": [
        "yearly_acc = df[\"Year\"].value_counts().sort_index()\n",
        "yearly_acc"
      ],
      "metadata": {
        "colab": {
          "base_uri": "https://localhost:8080/"
        },
        "id": "bSm4RVn8pVoG",
        "outputId": "2d8e2cd8-45c1-4f5f-fdd0-b7c6cab23ef0"
      },
      "execution_count": null,
      "outputs": [
        {
          "output_type": "execute_result",
          "data": {
            "text/plain": [
              "2005    198735\n",
              "2006    189161\n",
              "2007    182115\n",
              "2009    163554\n",
              "2010    154414\n",
              "2011    151474\n",
              "2012    179715\n",
              "2013    138660\n",
              "2014    146322\n",
              "Name: Year, dtype: int64"
            ]
          },
          "metadata": {},
          "execution_count": 27
        }
      ]
    },
    {
      "cell_type": "code",
      "source": [
        "yearly_acc.plot(kind='bar', width = 0.9, edgecolor = \"black\")\n",
        "plt.show()"
      ],
      "metadata": {
        "colab": {
          "base_uri": "https://localhost:8080/",
          "height": 281
        },
        "id": "djj3ZnUBsR-V",
        "outputId": "9b44b3c7-1b57-46d5-e1ac-8ac09352cc5c"
      },
      "execution_count": null,
      "outputs": [
        {
          "output_type": "display_data",
          "data": {
            "text/plain": [
              "<Figure size 432x288 with 1 Axes>"
            ],
            "image/png": "[encoded data removed]"
          },
          "metadata": {
            "needs_background": "light"
          }
        }
      ]
    },
    {
      "cell_type": "code",
      "source": [
        "casualty_per_year = df.groupby(\"Year\")['Number_of_Casualties'].sum().sort_index()\n",
        "casualty_per_year"
      ],
      "metadata": {
        "colab": {
          "base_uri": "https://localhost:8080/"
        },
        "id": "8tqW1mpDadJp",
        "outputId": "5bf76936-4912-4a70-f50d-b851332517ab"
      },
      "execution_count": null,
      "outputs": [
        {
          "output_type": "execute_result",
          "data": {
            "text/plain": [
              "Year\n",
              "2005    271017\n",
              "2006    258404\n",
              "2007    247780\n",
              "2009    222146\n",
              "2010    208648\n",
              "2011    203950\n",
              "2012    241954\n",
              "2013    183670\n",
              "2014    194477\n",
              "Name: Number_of_Casualties, dtype: int64"
            ]
          },
          "metadata": {},
          "execution_count": 29
        }
      ]
    },
    {
      "cell_type": "code",
      "source": [
        "casualty_per_year.plot(kind = \"bar\", width = 0.9, color = \"#abcdef\" , edgecolor = \"black\", xlabel = 'Year' )\n",
        "plt.show()"
      ],
      "metadata": {
        "colab": {
          "base_uri": "https://localhost:8080/",
          "height": 295
        },
        "id": "gIzel3mA4h99",
        "outputId": "caa62c8a-6d7c-4d7c-b49a-74c9efce0702"
      },
      "execution_count": null,
      "outputs": [
        {
          "output_type": "display_data",
          "data": {
            "text/plain": [
              "<Figure size 432x288 with 1 Axes>"
            ],
            "image/png": "[encoded data removed]"
          },
          "metadata": {
            "needs_background": "light"
          }
        }
      ]
    },
    {
      "cell_type": "code",
      "source": [
        ""
      ],
      "metadata": {
        "id": "JOUKLluwb0rQ"
      },
      "execution_count": null,
      "outputs": []
    },
    {
      "cell_type": "code",
      "source": [
        "yticks = np.arange(80000, 360000, 40000 )\n",
        "\n",
        "plt.plot(yearly_acc.index.values,yearly_acc, marker = \".\", label = \"Accidents\", markersize = 10, markeredgecolor = \"blue\")\n",
        "plt.plot(casualty_per_year.index.values,casualty_per_year, label = \"Casualties\", marker = \".\", markersize = 10, markeredgecolor = \"red\")\n",
        "plt.yticks(yticks)\n",
        "\n",
        "\n",
        "plt.title(\"Trend of Accidents over the Years\")\n",
        "plt.legend()\n",
        "plt.show()"
      ],
      "metadata": {
        "colab": {
          "base_uri": "https://localhost:8080/",
          "height": 281
        },
        "id": "DjRElW1tJXHa",
        "outputId": "f56698c3-9be7-405c-a0e3-270abae78dfa"
      },
      "execution_count": null,
      "outputs": [
        {
          "output_type": "display_data",
          "data": {
            "text/plain": [
              "<Figure size 432x288 with 1 Axes>"
            ],
            "image/png": "[encoded data removed]"
          },
          "metadata": {
            "needs_background": "light"
          }
        }
      ]
    },
    {
      "cell_type": "markdown",
      "source": [
        "#### **Insights :**\n",
        "\n",
        "There seems to be a trend that the total number of accidents have been reducing per year, with 2012 being a major exception. the dataset does not contain data from the year 2008. However, looking at the steady decrease in numbers between 2005 and 2011 and a sharper decrease between 2007 and 2009, it can be predicted that the value for 2008 would be somewhere between that of 2007 and 2009.\n",
        "\n",
        "The total number of casualties per year follows the same trend as that of the total number of accidents."
      ],
      "metadata": {
        "id": "VSzPBfDa2DfJ"
      }
    },
    {
      "cell_type": "markdown",
      "source": [
        " **Note :** What does casualty refer here ?\n",
        "It is important to understand whether casualty here only refers to the number of deaths in an accident or it also includes the number of people involved/ injured in the accident ? "
      ],
      "metadata": {
        "id": "I3dKrRHtCk4-"
      }
    },
    {
      "cell_type": "code",
      "source": [
        "0 in df[\"Number_of_Casualties\"].unique()"
      ],
      "metadata": {
        "colab": {
          "base_uri": "https://localhost:8080/"
        },
        "id": "xia5ORm6DIdk",
        "outputId": "780751eb-362d-4cb6-cd7e-0e4211e54899"
      },
      "execution_count": null,
      "outputs": [
        {
          "output_type": "execute_result",
          "data": {
            "text/plain": [
              "False"
            ]
          },
          "metadata": {},
          "execution_count": 32
        }
      ]
    },
    {
      "cell_type": "markdown",
      "source": [
        "There is a very low chance that there will be no accidents where the number of deaths will be 0, specially in a minor accident. So the Number_of_Casuality column does describe the total number of people involved in the accident.\n",
        "\n"
      ],
      "metadata": {
        "id": "6mEsJHRvEObW"
      }
    },
    {
      "cell_type": "markdown",
      "source": [
        "### **2. Accident Distribution throughout the day**"
      ],
      "metadata": {
        "id": "t1pqLIwR1JQ4"
      }
    },
    {
      "cell_type": "code",
      "source": [
        "day = plt.hist(pd.to_datetime(df[\"Time\"], format = \"%H:%M\").dt.hour, bins = 24, color = \"darkcyan\", edgecolor =\"black\")\n",
        "plt.show()"
      ],
      "metadata": {
        "id": "ozAmZQdM6g-N",
        "colab": {
          "base_uri": "https://localhost:8080/",
          "height": 269
        },
        "outputId": "80d00fce-6737-4bff-ce70-997645b63b2d"
      },
      "execution_count": null,
      "outputs": [
        {
          "output_type": "display_data",
          "data": {
            "text/plain": [
              "<Figure size 432x288 with 1 Axes>"
            ],
            "image/png": "[encoded data removed]"
          },
          "metadata": {
            "needs_background": "light"
          }
        }
      ]
    },
    {
      "cell_type": "markdown",
      "source": [
        "#### **Insights**\n",
        "1. The number of accidents are very little between midnight (12 am) and early morning (6 am), with least being at 4 am\n",
        "2. A large number of accidents occur during the 7 am and 2 pm while, peaking at around 8 am ( **this may coincide with the morning rush to go to work** ).\n",
        "3. Between 12pm to 2 pm, the rate of accident remains high but constant\n",
        "4. The time between 3 and 7 pm accounts for the highest cases of accidents, with the time between 4pm and 5pm accounting for the most number of accidents throughout the day ( **maybe this is correlated with the fact that people return from office, making it the rush hour** )\n",
        "5. The total cases of accidents continues to decrease from around 7-8 pm\n",
        "\n",
        "\n",
        "* From one of the article : [What time is the rush hour in UK](https://gotthisnow.com/what-time-is-rush-hour-in-uk), we get this extract : **Rush hour may be 6–10 am (6:00–10:00) and 3–7 pm (15:00–19:00). Peak traffic periods may vary from city to city, from region to region, and seasonally.** If the information is valid, the distribution of accidents correlates nicely with the traffic condition throughout the day."
      ],
      "metadata": {
        "id": "MFQxwgqVWeM3"
      }
    },
    {
      "cell_type": "markdown",
      "source": [
        "### **3. Distribution throughout various days of the week**"
      ],
      "metadata": {
        "id": "w8r2uuZF2Oyg"
      }
    },
    {
      "cell_type": "code",
      "source": [
        "df[\"Day_of_Week\"].value_counts()"
      ],
      "metadata": {
        "id": "r5GlFcfQSrza",
        "colab": {
          "base_uri": "https://localhost:8080/"
        },
        "outputId": "9c2e6662-3cf7-4f52-afda-42ad038d16a3"
      },
      "execution_count": null,
      "outputs": [
        {
          "output_type": "execute_result",
          "data": {
            "text/plain": [
              "6    247137\n",
              "5    226411\n",
              "4    226359\n",
              "3    224110\n",
              "2    213748\n",
              "7    201413\n",
              "1    164972\n",
              "Name: Day_of_Week, dtype: int64"
            ]
          },
          "metadata": {},
          "execution_count": 34
        }
      ]
    },
    {
      "cell_type": "code",
      "source": [
        "acc_day =df[[\"Day_of_Week\",\"Number_of_Casualties\"]].groupby(\"Day_of_Week\").sum()"
      ],
      "metadata": {
        "id": "n-iwDCdDUeZ9"
      },
      "execution_count": null,
      "outputs": []
    },
    {
      "cell_type": "markdown",
      "source": [
        "**Analysing which day the various number of the day corresponds to**\n",
        "\n",
        "we are not certain whether day number 1 refers to sunday, monday or any other day of the week. so geeting the day of the week from the date column will help in clarifying that. "
      ],
      "metadata": {
        "id": "jn-hcldIIete"
      }
    },
    {
      "cell_type": "code",
      "source": [
        " dates = pd.Series(pd.to_datetime(df[\"Date\"], format = \"%d/%m/%Y\"))\n",
        "dates.dt.day_name()[:5]"
      ],
      "metadata": {
        "colab": {
          "base_uri": "https://localhost:8080/"
        },
        "id": "dt_vL8OuorPA",
        "outputId": "b0824d20-979b-4a90-ddc6-7e5c68e717f1"
      },
      "execution_count": null,
      "outputs": [
        {
          "output_type": "execute_result",
          "data": {
            "text/plain": [
              "0      Tuesday\n",
              "1    Wednesday\n",
              "2     Thursday\n",
              "3       Friday\n",
              "4       Monday\n",
              "Name: Date, dtype: object"
            ]
          },
          "metadata": {},
          "execution_count": 36
        }
      ]
    },
    {
      "cell_type": "code",
      "source": [
        "df[\"Day_of_Week\"][:5]"
      ],
      "metadata": {
        "colab": {
          "base_uri": "https://localhost:8080/"
        },
        "id": "1AEZVDKDuvck",
        "outputId": "6641a0af-3f63-415f-8183-8f9b44708ac9"
      },
      "execution_count": null,
      "outputs": [
        {
          "output_type": "execute_result",
          "data": {
            "text/plain": [
              "0    3\n",
              "1    4\n",
              "2    5\n",
              "3    6\n",
              "4    2\n",
              "Name: Day_of_Week, dtype: int64"
            ]
          },
          "metadata": {},
          "execution_count": 37
        }
      ]
    },
    {
      "cell_type": "code",
      "source": [
        "dict = {\"Day_Number\" : df[\"Day_of_Week\"][:5], \"Day_of_Week\" : dates.dt.day_name()[:5]}\n",
        "day_n = pd.DataFrame(dict)\n",
        "day_n"
      ],
      "metadata": {
        "colab": {
          "base_uri": "https://localhost:8080/",
          "height": 206
        },
        "id": "Iz0Sgs-fGcXp",
        "outputId": "ef82771c-a5d1-487a-ee72-3cbd94e4021c"
      },
      "execution_count": null,
      "outputs": [
        {
          "output_type": "execute_result",
          "data": {
            "text/plain": [
              "   Day_Number Day_of_Week\n",
              "0           3     Tuesday\n",
              "1           4   Wednesday\n",
              "2           5    Thursday\n",
              "3           6      Friday\n",
              "4           2      Monday"
            ],
            "text/html": [
              "\n",
              "  <div id=\"df-64ef5cb5-62dd-4178-9d86-ac29929dbcce\">\n",
              "    <div class=\"colab-df-container\">\n",
              "      <div>\n",
              "<style scoped>\n",
              "    .dataframe tbody tr th:only-of-type {\n",
              "        vertical-align: middle;\n",
              "    }\n",
              "\n",
              "    .dataframe tbody tr th {\n",
              "        vertical-align: top;\n",
              "    }\n",
              "\n",
              "    .dataframe thead th {\n",
              "        text-align: right;\n",
              "    }\n",
              "</style>\n",
              "<table border=\"1\" class=\"dataframe\">\n",
              "  <thead>\n",
              "    <tr style=\"text-align: right;\">\n",
              "      <th></th>\n",
              "      <th>Day_Number</th>\n",
              "      <th>Day_of_Week</th>\n",
              "    </tr>\n",
              "  </thead>\n",
              "  <tbody>\n",
              "    <tr>\n",
              "      <th>0</th>\n",
              "      <td>3</td>\n",
              "      <td>Tuesday</td>\n",
              "    </tr>\n",
              "    <tr>\n",
              "      <th>1</th>\n",
              "      <td>4</td>\n",
              "      <td>Wednesday</td>\n",
              "    </tr>\n",
              "    <tr>\n",
              "      <th>2</th>\n",
              "      <td>5</td>\n",
              "      <td>Thursday</td>\n",
              "    </tr>\n",
              "    <tr>\n",
              "      <th>3</th>\n",
              "      <td>6</td>\n",
              "      <td>Friday</td>\n",
              "    </tr>\n",
              "    <tr>\n",
              "      <th>4</th>\n",
              "      <td>2</td>\n",
              "      <td>Monday</td>\n",
              "    </tr>\n",
              "  </tbody>\n",
              "</table>\n",
              "</div>\n",
              "      <button class=\"colab-df-convert\" onclick=\"convertToInteractive('df-64ef5cb5-62dd-4178-9d86-ac29929dbcce')\"\n",
              "              title=\"Convert this dataframe to an interactive table.\"\n",
              "              style=\"display:none;\">\n",
              "        \n",
              "  <svg xmlns=\"http://www.w3.org/2000/svg\" height=\"24px\"viewBox=\"0 0 24 24\"\n",
              "       width=\"24px\">\n",
              "    <path d=\"M0 0h24v24H0V0z\" fill=\"none\"/>\n",
              "    <path d=\"M18.56 5.44l.94 2.06.94-2.06 2.06-.94-2.06-.94-.94-2.06-.94 2.06-2.06.94zm-11 1L8.5 8.5l.94-2.06 2.06-.94-2.06-.94L8.5 2.5l-.94 2.06-2.06.94zm10 10l.94 2.06.94-2.06 2.06-.94-2.06-.94-.94-2.06-.94 2.06-2.06.94z\"/><path d=\"M17.41 7.96l-1.37-1.37c-.4-.4-.92-.59-1.43-.59-.52 0-1.04.2-1.43.59L10.3 9.45l-7.72 7.72c-.78.78-.78 2.05 0 2.83L4 21.41c.39.39.9.59 1.41.59.51 0 1.02-.2 1.41-.59l7.78-7.78 2.81-2.81c.8-.78.8-2.07 0-2.86zM5.41 20L4 18.59l7.72-7.72 1.47 1.35L5.41 20z\"/>\n",
              "  </svg>\n",
              "      </button>\n",
              "      \n",
              "  <style>\n",
              "    .colab-df-container {\n",
              "      display:flex;\n",
              "      flex-wrap:wrap;\n",
              "      gap: 12px;\n",
              "    }\n",
              "\n",
              "    .colab-df-convert {\n",
              "      background-color: #E8F0FE;\n",
              "      border: none;\n",
              "      border-radius: 50%;\n",
              "      cursor: pointer;\n",
              "      display: none;\n",
              "      fill: #1967D2;\n",
              "      height: 32px;\n",
              "      padding: 0 0 0 0;\n",
              "      width: 32px;\n",
              "    }\n",
              "\n",
              "    .colab-df-convert:hover {\n",
              "      background-color: #E2EBFA;\n",
              "      box-shadow: 0px 1px 2px rgba(60, 64, 67, 0.3), 0px 1px 3px 1px rgba(60, 64, 67, 0.15);\n",
              "      fill: #174EA6;\n",
              "    }\n",
              "\n",
              "    [theme=dark] .colab-df-convert {\n",
              "      background-color: #3B4455;\n",
              "      fill: #D2E3FC;\n",
              "    }\n",
              "\n",
              "    [theme=dark] .colab-df-convert:hover {\n",
              "      background-color: #434B5C;\n",
              "      box-shadow: 0px 1px 3px 1px rgba(0, 0, 0, 0.15);\n",
              "      filter: drop-shadow(0px 1px 2px rgba(0, 0, 0, 0.3));\n",
              "      fill: #FFFFFF;\n",
              "    }\n",
              "  </style>\n",
              "\n",
              "      <script>\n",
              "        const buttonEl =\n",
              "          document.querySelector('#df-64ef5cb5-62dd-4178-9d86-ac29929dbcce button.colab-df-convert');\n",
              "        buttonEl.style.display =\n",
              "          google.colab.kernel.accessAllowed ? 'block' : 'none';\n",
              "\n",
              "        async function convertToInteractive(key) {\n",
              "          const element = document.querySelector('#df-64ef5cb5-62dd-4178-9d86-ac29929dbcce');\n",
              "          const dataTable =\n",
              "            await google.colab.kernel.invokeFunction('convertToInteractive',\n",
              "                                                     [key], {});\n",
              "          if (!dataTable) return;\n",
              "\n",
              "          const docLinkHtml = 'Like what you see? Visit the ' +\n",
              "            '<a target=\"_blank\" href=https://colab.research.google.com/notebooks/data_table.ipynb>data table notebook</a>'\n",
              "            + ' to learn more about interactive tables.';\n",
              "          element.innerHTML = '';\n",
              "          dataTable['output_type'] = 'display_data';\n",
              "          await google.colab.output.renderOutput(dataTable, element);\n",
              "          const docLink = document.createElement('div');\n",
              "          docLink.innerHTML = docLinkHtml;\n",
              "          element.appendChild(docLink);\n",
              "        }\n",
              "      </script>\n",
              "    </div>\n",
              "  </div>\n",
              "  "
            ]
          },
          "metadata": {},
          "execution_count": 38
        }
      ]
    },
    {
      "cell_type": "markdown",
      "source": [
        "We conclude that 1 refers to Sunday, 2 to Monday, and so on."
      ],
      "metadata": {
        "id": "Uw0eHpwB4Ciw"
      }
    },
    {
      "cell_type": "code",
      "source": [
        "day = [\"Sun\",\"Mon\",\"Tue\",\"Wed\", \"Thur\",\"Fri\",\"Sat\"]\n",
        "plt.bar(acc_day.index.values, acc_day.iloc[:,0], color = \"#7d70c4\", alpha = 0.5,) #problem with the converted dataset...\n",
        "plt.xticks(acc_day.index.values, day)\n",
        "xlabel = \"Day of Week\"\n",
        "ylabel = \"Total Casualties\"\n",
        "plt.title(\"Daywise distribution of accidents\")\n",
        "plt.show()"
      ],
      "metadata": {
        "colab": {
          "base_uri": "https://localhost:8080/",
          "height": 281
        },
        "id": "2jPElzAJdPu7",
        "outputId": "a12f4819-02de-47bf-fdab-0a9ae6217ae1"
      },
      "execution_count": null,
      "outputs": [
        {
          "output_type": "display_data",
          "data": {
            "text/plain": [
              "<Figure size 432x288 with 1 Axes>"
            ],
            "image/png": "[encoded data removed]"
          },
          "metadata": {
            "needs_background": "light"
          }
        }
      ]
    },
    {
      "cell_type": "code",
      "source": [
        "plt.figure(figsize = (14,4))\n",
        "# First Plot \n",
        "plt.subplot(1,2,1)\n",
        "sun = df[df[\"Day_of_Week\"]== 1]\n",
        "plt.hist(pd.to_datetime(sun[\"Time\"], format = \"%H:%M\").dt.hour, bins = 24, color = \"darkcyan\", edgecolor =\"black\")\n",
        "# plt.xlabel(\"Time\")\n",
        "# plt.ylabel(\"Number of accidents\")\n",
        "plt.title(\"Accident distribution on Sunday\")\n",
        "\n",
        "#second plot\n",
        "plt.subplot(1,2,2)\n",
        "mon = df[df[\"Day_of_Week\"]== 6]\n",
        "plt.hist(pd.to_datetime(mon[\"Time\"], format = \"%H:%M\").dt.hour, bins = 24, color = \"#aabcef\", edgecolor =\"black\")\n",
        "plt.title(\"Accident distribution on Friday\")\n",
        "# plt.xlabel(\"Time\") \n",
        "# plt.ylabel(\"Number of accidents\")\n",
        "# Problem :'str' object is not callable\n",
        "plt.show()"
      ],
      "metadata": {
        "colab": {
          "base_uri": "https://localhost:8080/",
          "height": 281
        },
        "id": "zrU1yyGw5PkH",
        "outputId": "a3d021df-9381-40cc-9249-97d581e76550"
      },
      "execution_count": null,
      "outputs": [
        {
          "output_type": "display_data",
          "data": {
            "text/plain": [
              "<Figure size 1008x288 with 2 Axes>"
            ],
            "image/png": "[encoded data removed]"
          },
          "metadata": {
            "needs_background": "light"
          }
        }
      ]
    },
    {
      "cell_type": "code",
      "source": [
        "# For other days of the week \n",
        "plt.figure(figsize = (18,2))\n",
        "j = 0 \n",
        "for i in [2,3,4,5,7]:\n",
        "  j+=1\n",
        "  plt.subplot(1,5,j)\n",
        "  plt.hist(pd.to_datetime(df[df[\"Day_of_Week\"]== i][\"Time\"], format = \"%H:%M\").dt.hour, bins = 24, edgecolor =\"black\")\n",
        "  plt.title(day[i-1])\n",
        "plt.show()"
      ],
      "metadata": {
        "colab": {
          "base_uri": "https://localhost:8080/",
          "height": 165
        },
        "id": "UX60NzNlxgqt",
        "outputId": "268b4c77-e0b9-49c6-f1f6-5c79b5fb6fca"
      },
      "execution_count": null,
      "outputs": [
        {
          "output_type": "display_data",
          "data": {
            "text/plain": [
              "<Figure size 1296x144 with 5 Axes>"
            ],
            "image/png": "[encoded data removed]"
          },
          "metadata": {
            "needs_background": "light"
          }
        }
      ]
    },
    {
      "cell_type": "markdown",
      "source": [
        "####**Insights**\n",
        "\n",
        "1. The total cases of accidients seems to be distributed equally among the weekdays, with the weekends having comparitively lower cases. Sunday has the least number of accidents while Friday has maximum cases.\n",
        "\n",
        "2. There is big difference in the distribution of accidents in weekdays and weekends. On weekends, the distribution resembles a normal distribution with the peak around 3pm. Incase of weekdays however it seems to resemble the overlap  of 2 normal distribution curves, each contributed to the rush hour in traffic during workdays."
      ],
      "metadata": {
        "id": "0TYNVHZm4dtU"
      }
    },
    {
      "cell_type": "markdown",
      "source": [
        "### **4. Severity of Accidents**"
      ],
      "metadata": {
        "id": "48md-WZv3Lam"
      }
    },
    {
      "cell_type": "code",
      "source": [
        "df.columns"
      ],
      "metadata": {
        "id": "7iziPUqUu5ez",
        "colab": {
          "base_uri": "https://localhost:8080/"
        },
        "outputId": "3256949c-dd5e-4127-d127-284a9db1312e"
      },
      "execution_count": null,
      "outputs": [
        {
          "output_type": "execute_result",
          "data": {
            "text/plain": [
              "Index(['Unnamed: 0', 'Accident_Index', 'Location_Easting_OSGR',\n",
              "       'Location_Northing_OSGR', 'Longitude', 'Latitude', 'Police_Force',\n",
              "       'Accident_Severity', 'Number_of_Vehicles', 'Number_of_Casualties',\n",
              "       'Date', 'Day_of_Week', 'Time', 'Local_Authority_(District)',\n",
              "       'Local_Authority_(Highway)', '1st_Road_Class', '1st_Road_Number',\n",
              "       'Road_Type', 'Speed_limit', 'Junction_Control', '2nd_Road_Class',\n",
              "       '2nd_Road_Number', 'Pedestrian_Crossing-Human_Control',\n",
              "       'Pedestrian_Crossing-Physical_Facilities', 'Light_Conditions',\n",
              "       'Weather_Conditions', 'Road_Surface_Conditions',\n",
              "       'Special_Conditions_at_Site', 'Carriageway_Hazards',\n",
              "       'Urban_or_Rural_Area', 'Did_Police_Officer_Attend_Scene_of_Accident',\n",
              "       'LSOA_of_Accident_Location', 'Year'],\n",
              "      dtype='object')"
            ]
          },
          "metadata": {},
          "execution_count": 42
        }
      ]
    },
    {
      "cell_type": "code",
      "source": [
        "df.Accident_Severity.unique()"
      ],
      "metadata": {
        "colab": {
          "base_uri": "https://localhost:8080/"
        },
        "id": "N8Iq7C4I3VN6",
        "outputId": "a1092951-d427-4681-9911-611f26efd58a"
      },
      "execution_count": null,
      "outputs": [
        {
          "output_type": "execute_result",
          "data": {
            "text/plain": [
              "array([2, 3, 1])"
            ]
          },
          "metadata": {},
          "execution_count": 43
        }
      ]
    },
    {
      "cell_type": "code",
      "source": [
        "severity = df.Accident_Severity.value_counts().sort_index() # Total number of accidents per severity level"
      ],
      "metadata": {
        "id": "0LNW4WLb4Zso"
      },
      "execution_count": null,
      "outputs": []
    },
    {
      "cell_type": "code",
      "source": [
        "plt.figure(figsize = (6.4,4.8))\n",
        "color = [\"#f7ca00\",\"#aabcde\",\"#8e54d1\"]\n",
        "explode = [0.3,0.1,0.1]\n",
        "plt.pie(severity, labels = severity.index.values, autopct = \"%.2f %%\", pctdistance = 0.6, colors = color, explode = explode, textprops={'fontsize': 14})\n",
        "plt.title(\"Accident Severity \", fontdict ={'fontsize': 20})\n",
        "plt.show()"
      ],
      "metadata": {
        "colab": {
          "base_uri": "https://localhost:8080/",
          "height": 313
        },
        "id": "17Da8npl3iki",
        "outputId": "ccfd81a5-18ef-4cc4-e162-3114aab2a02b"
      },
      "execution_count": null,
      "outputs": [
        {
          "output_type": "display_data",
          "data": {
            "text/plain": [
              "<Figure size 460.8x345.6 with 1 Axes>"
            ],
            "image/png": "[encoded data removed]"
          },
          "metadata": {}
        }
      ]
    },
    {
      "cell_type": "code",
      "source": [
        "# Maximum Casualities in a single case :\n",
        "\n",
        "print(\"Maximum Casuality in an Accident :\", df[\"Number_of_Casualties\"].max())"
      ],
      "metadata": {
        "colab": {
          "base_uri": "https://localhost:8080/"
        },
        "id": "RPMtWrgFK7s5",
        "outputId": "c0c3a0d4-92d2-4631-8e42-5c9d55d9ea67"
      },
      "execution_count": null,
      "outputs": [
        {
          "output_type": "stream",
          "name": "stdout",
          "text": [
            "Maximum Casuality in an Accident : 93\n"
          ]
        }
      ]
    },
    {
      "cell_type": "code",
      "source": [
        "cas_per_sev = df[\"Number_of_Casualties\"].groupby(df[\"Accident_Severity\"]).sum().sort_index() # Total no of Casualties per Severity level\n",
        "cas_per_sev"
      ],
      "metadata": {
        "colab": {
          "base_uri": "https://localhost:8080/"
        },
        "id": "WKZQCoU-1ZBd",
        "outputId": "f6a850ac-7d8c-41c8-de64-ffa4b1805d3b"
      },
      "execution_count": null,
      "outputs": [
        {
          "output_type": "execute_result",
          "data": {
            "text/plain": [
              "Accident_Severity\n",
              "1      36683\n",
              "2     297115\n",
              "3    1698248\n",
              "Name: Number_of_Casualties, dtype: int64"
            ]
          },
          "metadata": {},
          "execution_count": 47
        }
      ]
    },
    {
      "cell_type": "code",
      "source": [
        "cas_per_sev.divide(severity) # Number of casualties per accident per level (no of casualties/ no of accidents)"
      ],
      "metadata": {
        "colab": {
          "base_uri": "https://localhost:8080/"
        },
        "id": "cmsXhnKj9X1r",
        "outputId": "dc5dd0c7-9f91-42df-d5c4-d61ccec21b99"
      },
      "execution_count": null,
      "outputs": [
        {
          "output_type": "execute_result",
          "data": {
            "text/plain": [
              "Accident_Severity\n",
              "1    1.886889\n",
              "2    1.452857\n",
              "3    1.326544\n",
              "dtype: float64"
            ]
          },
          "metadata": {},
          "execution_count": 48
        }
      ]
    },
    {
      "cell_type": "markdown",
      "source": [
        "**Note**"
      ],
      "metadata": {
        "id": "WULeRPxmLDDH"
      }
    },
    {
      "cell_type": "code",
      "source": [
        "sev1 = df[df[\"Accident_Severity\"] == 1]\n",
        "sev2 = df[df[\"Accident_Severity\"] == 2]\n",
        "sev3 = df[df[\"Accident_Severity\"] == 3]\n",
        "\n",
        "plt.hist(pd.to_datetime(sev1[\"Time\"], format = \"%H:%M\").dt.hour, bins = 24, density = True, alpha = 0.9)\n",
        "\n",
        "plt.hist(pd.to_datetime(sev2[\"Time\"], format = \"%H:%M\").dt.hour, bins = 24, density = True, alpha = 0.6)\n",
        "\n",
        "plt.hist(pd.to_datetime(sev3[\"Time\"], format = \"%H:%M\").dt.hour, bins = 24, density = True, alpha = 0.5)\n",
        "\n",
        "plt.show()"
      ],
      "metadata": {
        "colab": {
          "base_uri": "https://localhost:8080/",
          "height": 265
        },
        "id": "bnoyoTX4KUAC",
        "outputId": "5e2d40e7-ad9f-4c14-d444-83696f34f097"
      },
      "execution_count": null,
      "outputs": [
        {
          "output_type": "display_data",
          "data": {
            "text/plain": [
              "<Figure size 432x288 with 1 Axes>"
            ],
            "image/png": "[encoded data removed]"
          },
          "metadata": {
            "needs_background": "light"
          }
        }
      ]
    },
    {
      "cell_type": "markdown",
      "source": [
        "More than 80% of the accidents seem to be very severe (level = 3), while minor accidents (level = 1) account for only around 1 %. "
      ],
      "metadata": {
        "id": "bNRU4h7WFd4O"
      }
    },
    {
      "cell_type": "markdown",
      "source": [
        "#### **Insights**\n",
        "\n",
        "1. More than 80% of the accidents seem to be very severe (level = 3), while minor accidents (level = 1) account for only around 1 %.\n",
        "\n",
        "2. The distribution for level 1 resembles a normal distribution like that obtained during weekends , while levels 2 and 3 resembles the double humped distribution obtained from working days .\n",
        "\n",
        "**Note : Is there any connection between day of week and accident severity ?**"
      ],
      "metadata": {
        "id": "uFFrfoBgyqzM"
      }
    },
    {
      "cell_type": "code",
      "source": [
        "sev1.Day_of_Week.value_counts().sort_index()"
      ],
      "metadata": {
        "colab": {
          "base_uri": "https://localhost:8080/"
        },
        "id": "YqFJr7NE0y7l",
        "outputId": "f75910cb-9108-467a-d779-77ee67a7e378"
      },
      "execution_count": null,
      "outputs": [
        {
          "output_type": "execute_result",
          "data": {
            "text/plain": [
              "1    3080\n",
              "2    2530\n",
              "3    2514\n",
              "4    2431\n",
              "5    2562\n",
              "6    2952\n",
              "7    3372\n",
              "Name: Day_of_Week, dtype: int64"
            ]
          },
          "metadata": {},
          "execution_count": 50
        }
      ]
    },
    {
      "cell_type": "code",
      "source": [
        "plt.figure(figsize =(16,4))\n",
        "\n",
        "plt.subplot(1,3,1)\n",
        "sev1.Day_of_Week.value_counts().sort_index().plot(kind = \"bar\")\n",
        "plt.title(\"Severity = 1\")\n",
        "\n",
        "plt.subplot(1,3,2)\n",
        "sev2.Day_of_Week.value_counts().sort_index().plot(kind = \"bar\")\n",
        "plt.title(\"Severity = 2\")\n",
        "\n",
        "plt.subplot(1,3,3)\n",
        "sev3.Day_of_Week.value_counts().sort_index().plot(kind = \"bar\")\n",
        "plt.title(\"Severity = 3\")\n",
        "\n",
        "plt.show()"
      ],
      "metadata": {
        "colab": {
          "base_uri": "https://localhost:8080/",
          "height": 278
        },
        "id": "PLzo9gttyo8d",
        "outputId": "f28aa217-bafb-4d34-c1ff-e5f271ba0ece"
      },
      "execution_count": null,
      "outputs": [
        {
          "output_type": "display_data",
          "data": {
            "text/plain": [
              "<Figure size 1152x288 with 3 Axes>"
            ],
            "image/png": "[encoded data removed]"
          },
          "metadata": {
            "needs_background": "light"
          }
        }
      ]
    },
    {
      "cell_type": "markdown",
      "source": [
        "#### **Insights (ii)**\n",
        "\n",
        "* For all the accidents that are categorized to level 1, the weekends seem to have relatively higher number of cases as compared to the weekdays.\n",
        "\n",
        "* for level 2, the distribution among weekdays is fairly equal.\n",
        "\n",
        "* for level 3 the distribution is opposite to that of level 1, ie, the weekdays have a much higher count as opposed to the weekends.\n",
        "* In all the cases Friday always seem to have a higher no. of accidents as compared to the other weekdays. "
      ],
      "metadata": {
        "id": "IavNbO_HO-f9"
      }
    },
    {
      "cell_type": "markdown",
      "source": [
        "### **5. Importance of Light and Weather conditions in predicting accident severity**"
      ],
      "metadata": {
        "id": "eEmBL2-aTOa7"
      }
    },
    {
      "cell_type": "markdown",
      "source": [
        "accident_severity = pd.DataFrame({ 'Light_Conditions' : df.Light_Conditions, 'Weather_Conditions' : df.Weather_Conditions, 'Accident_Severity' : df.Accident_Severity })"
      ],
      "metadata": {
        "id": "L7odu4i73et0"
      }
    },
    {
      "cell_type": "code",
      "source": [
        "accident_severity = pd.DataFrame({ 'Light_Conditions' : df.Light_Conditions, 'Weather_Conditions' : df.Weather_Conditions, 'Accident_Severity' : df.Accident_Severity })\n",
        "\n",
        "accident_severity.sample(5)\n"
      ],
      "metadata": {
        "id": "fLGNVSZs3U5Y",
        "colab": {
          "base_uri": "https://localhost:8080/",
          "height": 206
        },
        "outputId": "207a610f-5d71-4eba-ad0a-a40f2ea73eea"
      },
      "execution_count": null,
      "outputs": [
        {
          "output_type": "execute_result",
          "data": {
            "text/plain": [
              "                                Light_Conditions       Weather_Conditions  \\\n",
              "546182            Daylight: Street light present  Fine without high winds   \n",
              "433814   Darkness: Street lights present and lit  Fine without high winds   \n",
              "903298            Daylight: Street light present  Fine without high winds   \n",
              "197437            Daylight: Street light present  Fine without high winds   \n",
              "1167867           Daylight: Street light present  Fine without high winds   \n",
              "\n",
              "         Accident_Severity  \n",
              "546182                   3  \n",
              "433814                   3  \n",
              "903298                   3  \n",
              "197437                   3  \n",
              "1167867                  3  "
            ],
            "text/html": [
              "\n",
              "  <div id=\"df-ee448b2a-28f3-4b39-a1b8-5313cd4da329\">\n",
              "    <div class=\"colab-df-container\">\n",
              "      <div>\n",
              "<style scoped>\n",
              "    .dataframe tbody tr th:only-of-type {\n",
              "        vertical-align: middle;\n",
              "    }\n",
              "\n",
              "    .dataframe tbody tr th {\n",
              "        vertical-align: top;\n",
              "    }\n",
              "\n",
              "    .dataframe thead th {\n",
              "        text-align: right;\n",
              "    }\n",
              "</style>\n",
              "<table border=\"1\" class=\"dataframe\">\n",
              "  <thead>\n",
              "    <tr style=\"text-align: right;\">\n",
              "      <th></th>\n",
              "      <th>Light_Conditions</th>\n",
              "      <th>Weather_Conditions</th>\n",
              "      <th>Accident_Severity</th>\n",
              "    </tr>\n",
              "  </thead>\n",
              "  <tbody>\n",
              "    <tr>\n",
              "      <th>546182</th>\n",
              "      <td>Daylight: Street light present</td>\n",
              "      <td>Fine without high winds</td>\n",
              "      <td>3</td>\n",
              "    </tr>\n",
              "    <tr>\n",
              "      <th>433814</th>\n",
              "      <td>Darkness: Street lights present and lit</td>\n",
              "      <td>Fine without high winds</td>\n",
              "      <td>3</td>\n",
              "    </tr>\n",
              "    <tr>\n",
              "      <th>903298</th>\n",
              "      <td>Daylight: Street light present</td>\n",
              "      <td>Fine without high winds</td>\n",
              "      <td>3</td>\n",
              "    </tr>\n",
              "    <tr>\n",
              "      <th>197437</th>\n",
              "      <td>Daylight: Street light present</td>\n",
              "      <td>Fine without high winds</td>\n",
              "      <td>3</td>\n",
              "    </tr>\n",
              "    <tr>\n",
              "      <th>1167867</th>\n",
              "      <td>Daylight: Street light present</td>\n",
              "      <td>Fine without high winds</td>\n",
              "      <td>3</td>\n",
              "    </tr>\n",
              "  </tbody>\n",
              "</table>\n",
              "</div>\n",
              "      <button class=\"colab-df-convert\" onclick=\"convertToInteractive('df-ee448b2a-28f3-4b39-a1b8-5313cd4da329')\"\n",
              "              title=\"Convert this dataframe to an interactive table.\"\n",
              "              style=\"display:none;\">\n",
              "        \n",
              "  <svg xmlns=\"http://www.w3.org/2000/svg\" height=\"24px\"viewBox=\"0 0 24 24\"\n",
              "       width=\"24px\">\n",
              "    <path d=\"M0 0h24v24H0V0z\" fill=\"none\"/>\n",
              "    <path d=\"M18.56 5.44l.94 2.06.94-2.06 2.06-.94-2.06-.94-.94-2.06-.94 2.06-2.06.94zm-11 1L8.5 8.5l.94-2.06 2.06-.94-2.06-.94L8.5 2.5l-.94 2.06-2.06.94zm10 10l.94 2.06.94-2.06 2.06-.94-2.06-.94-.94-2.06-.94 2.06-2.06.94z\"/><path d=\"M17.41 7.96l-1.37-1.37c-.4-.4-.92-.59-1.43-.59-.52 0-1.04.2-1.43.59L10.3 9.45l-7.72 7.72c-.78.78-.78 2.05 0 2.83L4 21.41c.39.39.9.59 1.41.59.51 0 1.02-.2 1.41-.59l7.78-7.78 2.81-2.81c.8-.78.8-2.07 0-2.86zM5.41 20L4 18.59l7.72-7.72 1.47 1.35L5.41 20z\"/>\n",
              "  </svg>\n",
              "      </button>\n",
              "      \n",
              "  <style>\n",
              "    .colab-df-container {\n",
              "      display:flex;\n",
              "      flex-wrap:wrap;\n",
              "      gap: 12px;\n",
              "    }\n",
              "\n",
              "    .colab-df-convert {\n",
              "      background-color: #E8F0FE;\n",
              "      border: none;\n",
              "      border-radius: 50%;\n",
              "      cursor: pointer;\n",
              "      display: none;\n",
              "      fill: #1967D2;\n",
              "      height: 32px;\n",
              "      padding: 0 0 0 0;\n",
              "      width: 32px;\n",
              "    }\n",
              "\n",
              "    .colab-df-convert:hover {\n",
              "      background-color: #E2EBFA;\n",
              "      box-shadow: 0px 1px 2px rgba(60, 64, 67, 0.3), 0px 1px 3px 1px rgba(60, 64, 67, 0.15);\n",
              "      fill: #174EA6;\n",
              "    }\n",
              "\n",
              "    [theme=dark] .colab-df-convert {\n",
              "      background-color: #3B4455;\n",
              "      fill: #D2E3FC;\n",
              "    }\n",
              "\n",
              "    [theme=dark] .colab-df-convert:hover {\n",
              "      background-color: #434B5C;\n",
              "      box-shadow: 0px 1px 3px 1px rgba(0, 0, 0, 0.15);\n",
              "      filter: drop-shadow(0px 1px 2px rgba(0, 0, 0, 0.3));\n",
              "      fill: #FFFFFF;\n",
              "    }\n",
              "  </style>\n",
              "\n",
              "      <script>\n",
              "        const buttonEl =\n",
              "          document.querySelector('#df-ee448b2a-28f3-4b39-a1b8-5313cd4da329 button.colab-df-convert');\n",
              "        buttonEl.style.display =\n",
              "          google.colab.kernel.accessAllowed ? 'block' : 'none';\n",
              "\n",
              "        async function convertToInteractive(key) {\n",
              "          const element = document.querySelector('#df-ee448b2a-28f3-4b39-a1b8-5313cd4da329');\n",
              "          const dataTable =\n",
              "            await google.colab.kernel.invokeFunction('convertToInteractive',\n",
              "                                                     [key], {});\n",
              "          if (!dataTable) return;\n",
              "\n",
              "          const docLinkHtml = 'Like what you see? Visit the ' +\n",
              "            '<a target=\"_blank\" href=https://colab.research.google.com/notebooks/data_table.ipynb>data table notebook</a>'\n",
              "            + ' to learn more about interactive tables.';\n",
              "          element.innerHTML = '';\n",
              "          dataTable['output_type'] = 'display_data';\n",
              "          await google.colab.output.renderOutput(dataTable, element);\n",
              "          const docLink = document.createElement('div');\n",
              "          docLink.innerHTML = docLinkHtml;\n",
              "          element.appendChild(docLink);\n",
              "        }\n",
              "      </script>\n",
              "    </div>\n",
              "  </div>\n",
              "  "
            ]
          },
          "metadata": {},
          "execution_count": 54
        }
      ]
    },
    {
      "cell_type": "code",
      "source": [
        "accident_severity.info()"
      ],
      "metadata": {
        "colab": {
          "base_uri": "https://localhost:8080/"
        },
        "id": "2Th0UVRZvl49",
        "outputId": "ddbd56c5-01f8-4db7-b1d8-0a0d66fd2085"
      },
      "execution_count": null,
      "outputs": [
        {
          "output_type": "stream",
          "name": "stdout",
          "text": [
            "<class 'pandas.core.frame.DataFrame'>\n",
            "RangeIndex: 1504150 entries, 0 to 1504149\n",
            "Data columns (total 3 columns):\n",
            " #   Column              Non-Null Count    Dtype \n",
            "---  ------              --------------    ----- \n",
            " 0   Light_Conditions    1504150 non-null  object\n",
            " 1   Weather_Conditions  1504150 non-null  object\n",
            " 2   Accident_Severity   1504150 non-null  int64 \n",
            "dtypes: int64(1), object(2)\n",
            "memory usage: 34.4+ MB\n"
          ]
        }
      ]
    },
    {
      "cell_type": "markdown",
      "source": [
        "Converting Object data-type into Category datatype"
      ],
      "metadata": {
        "id": "dQZ8lEQ5wRxe"
      }
    },
    {
      "cell_type": "code",
      "source": [
        "for object_feature in accident_severity.dtypes[accident_severity.dtypes == 'object'].index :\n",
        "     accident_severity[object_feature] = accident_severity[object_feature].astype('category')"
      ],
      "metadata": {
        "id": "6GLMsh9GwQ0x"
      },
      "execution_count": null,
      "outputs": []
    },
    {
      "cell_type": "code",
      "source": [
        "accident_severity.dtypes"
      ],
      "metadata": {
        "colab": {
          "base_uri": "https://localhost:8080/"
        },
        "id": "IxXo3nM7wMYI",
        "outputId": "265fdbee-232f-421f-abff-15c2129806b0"
      },
      "execution_count": null,
      "outputs": [
        {
          "output_type": "execute_result",
          "data": {
            "text/plain": [
              "Light_Conditions      category\n",
              "Weather_Conditions    category\n",
              "Accident_Severity        int64\n",
              "dtype: object"
            ]
          },
          "metadata": {},
          "execution_count": 66
        }
      ]
    },
    {
      "cell_type": "code",
      "source": [
        "accident_severity = pd.get_dummies(data=accident_severity, columns=['Light_Conditions', 'Weather_Conditions'])"
      ],
      "metadata": {
        "id": "xnfqazGMwuWL"
      },
      "execution_count": null,
      "outputs": []
    },
    {
      "cell_type": "code",
      "source": [
        "accident_severity.head(2)"
      ],
      "metadata": {
        "colab": {
          "base_uri": "https://localhost:8080/",
          "height": 211
        },
        "id": "TukoFk0tyKCu",
        "outputId": "eea1b4da-77d0-49ff-f184-5a8be14f6bf1"
      },
      "execution_count": null,
      "outputs": [
        {
          "output_type": "execute_result",
          "data": {
            "text/plain": [
              "   Accident_Severity  Light_Conditions_Darkeness: No street lighting  \\\n",
              "0                  2                                               0   \n",
              "1                  3                                               0   \n",
              "\n",
              "   Light_Conditions_Darkness: Street lighting unknown  \\\n",
              "0                                                  0    \n",
              "1                                                  0    \n",
              "\n",
              "   Light_Conditions_Darkness: Street lights present and lit  \\\n",
              "0                                                  0          \n",
              "1                                                  1          \n",
              "\n",
              "   Light_Conditions_Darkness: Street lights present but unlit  \\\n",
              "0                                                  0            \n",
              "1                                                  0            \n",
              "\n",
              "   Light_Conditions_Daylight: Street light present  \\\n",
              "0                                                1   \n",
              "1                                                0   \n",
              "\n",
              "   Weather_Conditions_Fine with high winds  \\\n",
              "0                                        0   \n",
              "1                                        0   \n",
              "\n",
              "   Weather_Conditions_Fine without high winds  Weather_Conditions_Fog or mist  \\\n",
              "0                                           0                               0   \n",
              "1                                           1                               0   \n",
              "\n",
              "   Weather_Conditions_Other  Weather_Conditions_Raining with high winds  \\\n",
              "0                         0                                           0   \n",
              "1                         0                                           0   \n",
              "\n",
              "   Weather_Conditions_Raining without high winds  \\\n",
              "0                                              1   \n",
              "1                                              0   \n",
              "\n",
              "   Weather_Conditions_Snowing with high winds  \\\n",
              "0                                           0   \n",
              "1                                           0   \n",
              "\n",
              "   Weather_Conditions_Snowing without high winds  Weather_Conditions_Unknown  \n",
              "0                                              0                           0  \n",
              "1                                              0                           0  "
            ],
            "text/html": [
              "\n",
              "  <div id=\"df-535f8a81-09e5-4e1d-be42-4c95b53bd152\">\n",
              "    <div class=\"colab-df-container\">\n",
              "      <div>\n",
              "<style scoped>\n",
              "    .dataframe tbody tr th:only-of-type {\n",
              "        vertical-align: middle;\n",
              "    }\n",
              "\n",
              "    .dataframe tbody tr th {\n",
              "        vertical-align: top;\n",
              "    }\n",
              "\n",
              "    .dataframe thead th {\n",
              "        text-align: right;\n",
              "    }\n",
              "</style>\n",
              "<table border=\"1\" class=\"dataframe\">\n",
              "  <thead>\n",
              "    <tr style=\"text-align: right;\">\n",
              "      <th></th>\n",
              "      <th>Accident_Severity</th>\n",
              "      <th>Light_Conditions_Darkeness: No street lighting</th>\n",
              "      <th>Light_Conditions_Darkness: Street lighting unknown</th>\n",
              "      <th>Light_Conditions_Darkness: Street lights present and lit</th>\n",
              "      <th>Light_Conditions_Darkness: Street lights present but unlit</th>\n",
              "      <th>Light_Conditions_Daylight: Street light present</th>\n",
              "      <th>Weather_Conditions_Fine with high winds</th>\n",
              "      <th>Weather_Conditions_Fine without high winds</th>\n",
              "      <th>Weather_Conditions_Fog or mist</th>\n",
              "      <th>Weather_Conditions_Other</th>\n",
              "      <th>Weather_Conditions_Raining with high winds</th>\n",
              "      <th>Weather_Conditions_Raining without high winds</th>\n",
              "      <th>Weather_Conditions_Snowing with high winds</th>\n",
              "      <th>Weather_Conditions_Snowing without high winds</th>\n",
              "      <th>Weather_Conditions_Unknown</th>\n",
              "    </tr>\n",
              "  </thead>\n",
              "  <tbody>\n",
              "    <tr>\n",
              "      <th>0</th>\n",
              "      <td>2</td>\n",
              "      <td>0</td>\n",
              "      <td>0</td>\n",
              "      <td>0</td>\n",
              "      <td>0</td>\n",
              "      <td>1</td>\n",
              "      <td>0</td>\n",
              "      <td>0</td>\n",
              "      <td>0</td>\n",
              "      <td>0</td>\n",
              "      <td>0</td>\n",
              "      <td>1</td>\n",
              "      <td>0</td>\n",
              "      <td>0</td>\n",
              "      <td>0</td>\n",
              "    </tr>\n",
              "    <tr>\n",
              "      <th>1</th>\n",
              "      <td>3</td>\n",
              "      <td>0</td>\n",
              "      <td>0</td>\n",
              "      <td>1</td>\n",
              "      <td>0</td>\n",
              "      <td>0</td>\n",
              "      <td>0</td>\n",
              "      <td>1</td>\n",
              "      <td>0</td>\n",
              "      <td>0</td>\n",
              "      <td>0</td>\n",
              "      <td>0</td>\n",
              "      <td>0</td>\n",
              "      <td>0</td>\n",
              "      <td>0</td>\n",
              "    </tr>\n",
              "  </tbody>\n",
              "</table>\n",
              "</div>\n",
              "      <button class=\"colab-df-convert\" onclick=\"convertToInteractive('df-535f8a81-09e5-4e1d-be42-4c95b53bd152')\"\n",
              "              title=\"Convert this dataframe to an interactive table.\"\n",
              "              style=\"display:none;\">\n",
              "        \n",
              "  <svg xmlns=\"http://www.w3.org/2000/svg\" height=\"24px\"viewBox=\"0 0 24 24\"\n",
              "       width=\"24px\">\n",
              "    <path d=\"M0 0h24v24H0V0z\" fill=\"none\"/>\n",
              "    <path d=\"M18.56 5.44l.94 2.06.94-2.06 2.06-.94-2.06-.94-.94-2.06-.94 2.06-2.06.94zm-11 1L8.5 8.5l.94-2.06 2.06-.94-2.06-.94L8.5 2.5l-.94 2.06-2.06.94zm10 10l.94 2.06.94-2.06 2.06-.94-2.06-.94-.94-2.06-.94 2.06-2.06.94z\"/><path d=\"M17.41 7.96l-1.37-1.37c-.4-.4-.92-.59-1.43-.59-.52 0-1.04.2-1.43.59L10.3 9.45l-7.72 7.72c-.78.78-.78 2.05 0 2.83L4 21.41c.39.39.9.59 1.41.59.51 0 1.02-.2 1.41-.59l7.78-7.78 2.81-2.81c.8-.78.8-2.07 0-2.86zM5.41 20L4 18.59l7.72-7.72 1.47 1.35L5.41 20z\"/>\n",
              "  </svg>\n",
              "      </button>\n",
              "      \n",
              "  <style>\n",
              "    .colab-df-container {\n",
              "      display:flex;\n",
              "      flex-wrap:wrap;\n",
              "      gap: 12px;\n",
              "    }\n",
              "\n",
              "    .colab-df-convert {\n",
              "      background-color: #E8F0FE;\n",
              "      border: none;\n",
              "      border-radius: 50%;\n",
              "      cursor: pointer;\n",
              "      display: none;\n",
              "      fill: #1967D2;\n",
              "      height: 32px;\n",
              "      padding: 0 0 0 0;\n",
              "      width: 32px;\n",
              "    }\n",
              "\n",
              "    .colab-df-convert:hover {\n",
              "      background-color: #E2EBFA;\n",
              "      box-shadow: 0px 1px 2px rgba(60, 64, 67, 0.3), 0px 1px 3px 1px rgba(60, 64, 67, 0.15);\n",
              "      fill: #174EA6;\n",
              "    }\n",
              "\n",
              "    [theme=dark] .colab-df-convert {\n",
              "      background-color: #3B4455;\n",
              "      fill: #D2E3FC;\n",
              "    }\n",
              "\n",
              "    [theme=dark] .colab-df-convert:hover {\n",
              "      background-color: #434B5C;\n",
              "      box-shadow: 0px 1px 3px 1px rgba(0, 0, 0, 0.15);\n",
              "      filter: drop-shadow(0px 1px 2px rgba(0, 0, 0, 0.3));\n",
              "      fill: #FFFFFF;\n",
              "    }\n",
              "  </style>\n",
              "\n",
              "      <script>\n",
              "        const buttonEl =\n",
              "          document.querySelector('#df-535f8a81-09e5-4e1d-be42-4c95b53bd152 button.colab-df-convert');\n",
              "        buttonEl.style.display =\n",
              "          google.colab.kernel.accessAllowed ? 'block' : 'none';\n",
              "\n",
              "        async function convertToInteractive(key) {\n",
              "          const element = document.querySelector('#df-535f8a81-09e5-4e1d-be42-4c95b53bd152');\n",
              "          const dataTable =\n",
              "            await google.colab.kernel.invokeFunction('convertToInteractive',\n",
              "                                                     [key], {});\n",
              "          if (!dataTable) return;\n",
              "\n",
              "          const docLinkHtml = 'Like what you see? Visit the ' +\n",
              "            '<a target=\"_blank\" href=https://colab.research.google.com/notebooks/data_table.ipynb>data table notebook</a>'\n",
              "            + ' to learn more about interactive tables.';\n",
              "          element.innerHTML = '';\n",
              "          dataTable['output_type'] = 'display_data';\n",
              "          await google.colab.output.renderOutput(dataTable, element);\n",
              "          const docLink = document.createElement('div');\n",
              "          docLink.innerHTML = docLinkHtml;\n",
              "          element.appendChild(docLink);\n",
              "        }\n",
              "      </script>\n",
              "    </div>\n",
              "  </div>\n",
              "  "
            ]
          },
          "metadata": {},
          "execution_count": 69
        }
      ]
    },
    {
      "cell_type": "code",
      "source": [
        "corr_chart = accident_severity.corr().loc['Accident_Severity':]\n",
        "corr_chart = pd.DataFrame(corr_chart)\n",
        "corr_chart"
      ],
      "metadata": {
        "colab": {
          "base_uri": "https://localhost:8080/",
          "height": 826
        },
        "id": "2gjclH73yTH6",
        "outputId": "ba4f407c-f444-4129-e52b-2c261919e601"
      },
      "execution_count": null,
      "outputs": [
        {
          "output_type": "execute_result",
          "data": {
            "text/plain": [
              "                                                    Accident_Severity  \\\n",
              "Accident_Severity                                            1.000000   \n",
              "Light_Conditions_Darkeness: No street lighting              -0.071174   \n",
              "Light_Conditions_Darkness: Street lighting unknown           0.002657   \n",
              "Light_Conditions_Darkness: Street lights presen...          -0.018362   \n",
              "Light_Conditions_Darkness: Street lights presen...          -0.003769   \n",
              "Light_Conditions_Daylight: Street light present              0.053096   \n",
              "Weather_Conditions_Fine with high winds                     -0.005982   \n",
              "Weather_Conditions_Fine without high winds                  -0.025910   \n",
              "Weather_Conditions_Fog or mist                              -0.004042   \n",
              "Weather_Conditions_Other                                     0.012961   \n",
              "Weather_Conditions_Raining with high winds                   0.000549   \n",
              "Weather_Conditions_Raining without high winds                0.018437   \n",
              "Weather_Conditions_Snowing with high winds                   0.003080   \n",
              "Weather_Conditions_Snowing without high winds                0.010913   \n",
              "Weather_Conditions_Unknown                                   0.017108   \n",
              "\n",
              "                                                    Light_Conditions_Darkeness: No street lighting  \\\n",
              "Accident_Severity                                                                        -0.071174   \n",
              "Light_Conditions_Darkeness: No street lighting                                            1.000000   \n",
              "Light_Conditions_Darkness: Street lighting unknown                                       -0.025083   \n",
              "Light_Conditions_Darkness: Street lights presen...                                       -0.119369   \n",
              "Light_Conditions_Darkness: Street lights presen...                                       -0.016370   \n",
              "Light_Conditions_Daylight: Street light present                                          -0.399076   \n",
              "Weather_Conditions_Fine with high winds                                                   0.018572   \n",
              "Weather_Conditions_Fine without high winds                                               -0.074911   \n",
              "Weather_Conditions_Fog or mist                                                            0.058249   \n",
              "Weather_Conditions_Other                                                                  0.037683   \n",
              "Weather_Conditions_Raining with high winds                                                0.048193   \n",
              "Weather_Conditions_Raining without high winds                                             0.033486   \n",
              "Weather_Conditions_Snowing with high winds                                                0.028193   \n",
              "Weather_Conditions_Snowing without high winds                                             0.031123   \n",
              "Weather_Conditions_Unknown                                                               -0.015329   \n",
              "\n",
              "                                                    Light_Conditions_Darkness: Street lighting unknown  \\\n",
              "Accident_Severity                                                                            0.002657    \n",
              "Light_Conditions_Darkeness: No street lighting                                              -0.025083    \n",
              "Light_Conditions_Darkness: Street lighting unknown                                           1.000000    \n",
              "Light_Conditions_Darkness: Street lights presen...                                          -0.051555    \n",
              "Light_Conditions_Darkness: Street lights presen...                                          -0.007070    \n",
              "Light_Conditions_Daylight: Street light present                                             -0.172360    \n",
              "Weather_Conditions_Fine with high winds                                                     -0.002335    \n",
              "Weather_Conditions_Fine without high winds                                                  -0.044742    \n",
              "Weather_Conditions_Fog or mist                                                               0.005986    \n",
              "Weather_Conditions_Other                                                                     0.002229    \n",
              "Weather_Conditions_Raining with high winds                                                   0.000384    \n",
              "Weather_Conditions_Raining without high winds                                               -0.006382    \n",
              "Weather_Conditions_Snowing with high winds                                                   0.000715    \n",
              "Weather_Conditions_Snowing without high winds                                                0.003057    \n",
              "Weather_Conditions_Unknown                                                                   0.140243    \n",
              "\n",
              "                                                    Light_Conditions_Darkness: Street lights present and lit  \\\n",
              "Accident_Severity                                                                           -0.018362          \n",
              "Light_Conditions_Darkeness: No street lighting                                              -0.119369          \n",
              "Light_Conditions_Darkness: Street lighting unknown                                          -0.051555          \n",
              "Light_Conditions_Darkness: Street lights presen...                                           1.000000          \n",
              "Light_Conditions_Darkness: Street lights presen...                                          -0.033648          \n",
              "Light_Conditions_Daylight: Street light present                                             -0.820269          \n",
              "Weather_Conditions_Fine with high winds                                                      0.006970          \n",
              "Weather_Conditions_Fine without high winds                                                  -0.093839          \n",
              "Weather_Conditions_Fog or mist                                                               0.011799          \n",
              "Weather_Conditions_Other                                                                     0.031787          \n",
              "Weather_Conditions_Raining with high winds                                                   0.041990          \n",
              "Weather_Conditions_Raining without high winds                                                0.081967          \n",
              "Weather_Conditions_Snowing with high winds                                                   0.001151          \n",
              "Weather_Conditions_Snowing without high winds                                                0.016986          \n",
              "Weather_Conditions_Unknown                                                                  -0.012381          \n",
              "\n",
              "                                                    Light_Conditions_Darkness: Street lights present but unlit  \\\n",
              "Accident_Severity                                                                           -0.003769            \n",
              "Light_Conditions_Darkeness: No street lighting                                              -0.016370            \n",
              "Light_Conditions_Darkness: Street lighting unknown                                          -0.007070            \n",
              "Light_Conditions_Darkness: Street lights presen...                                          -0.033648            \n",
              "Light_Conditions_Darkness: Street lights presen...                                           1.000000            \n",
              "Light_Conditions_Daylight: Street light present                                             -0.112492            \n",
              "Weather_Conditions_Fine with high winds                                                      0.003017            \n",
              "Weather_Conditions_Fine without high winds                                                  -0.018033            \n",
              "Weather_Conditions_Fog or mist                                                               0.005796            \n",
              "Weather_Conditions_Other                                                                     0.008136            \n",
              "Weather_Conditions_Raining with high winds                                                   0.010302            \n",
              "Weather_Conditions_Raining without high winds                                                0.012519            \n",
              "Weather_Conditions_Snowing with high winds                                                   0.002725            \n",
              "Weather_Conditions_Snowing without high winds                                                0.001946            \n",
              "Weather_Conditions_Unknown                                                                  -0.001917            \n",
              "\n",
              "                                                    Light_Conditions_Daylight: Street light present  \\\n",
              "Accident_Severity                                                                          0.053096   \n",
              "Light_Conditions_Darkeness: No street lighting                                            -0.399076   \n",
              "Light_Conditions_Darkness: Street lighting unknown                                        -0.172360   \n",
              "Light_Conditions_Darkness: Street lights presen...                                        -0.820269   \n",
              "Light_Conditions_Darkness: Street lights presen...                                        -0.112492   \n",
              "Light_Conditions_Daylight: Street light present                                            1.000000   \n",
              "Weather_Conditions_Fine with high winds                                                   -0.015741   \n",
              "Weather_Conditions_Fine without high winds                                                 0.136071   \n",
              "Weather_Conditions_Fog or mist                                                            -0.042865   \n",
              "Weather_Conditions_Other                                                                  -0.049729   \n",
              "Weather_Conditions_Raining with high winds                                                -0.064212   \n",
              "Weather_Conditions_Raining without high winds                                             -0.091339   \n",
              "Weather_Conditions_Snowing with high winds                                                -0.016129   \n",
              "Weather_Conditions_Snowing without high winds                                             -0.032296   \n",
              "Weather_Conditions_Unknown                                                                -0.013322   \n",
              "\n",
              "                                                    Weather_Conditions_Fine with high winds  \\\n",
              "Accident_Severity                                                                 -0.005982   \n",
              "Light_Conditions_Darkeness: No street lighting                                     0.018572   \n",
              "Light_Conditions_Darkness: Street lighting unknown                                -0.002335   \n",
              "Light_Conditions_Darkness: Street lights presen...                                 0.006970   \n",
              "Light_Conditions_Darkness: Street lights presen...                                 0.003017   \n",
              "Light_Conditions_Daylight: Street light present                                   -0.015741   \n",
              "Weather_Conditions_Fine with high winds                                            1.000000   \n",
              "Weather_Conditions_Fine without high winds                                        -0.222582   \n",
              "Weather_Conditions_Fog or mist                                                    -0.008224   \n",
              "Weather_Conditions_Other                                                          -0.016776   \n",
              "Weather_Conditions_Raining with high winds                                        -0.013166   \n",
              "Weather_Conditions_Raining without high winds                                     -0.040677   \n",
              "Weather_Conditions_Snowing with high winds                                        -0.004015   \n",
              "Weather_Conditions_Snowing without high winds                                     -0.009670   \n",
              "Weather_Conditions_Unknown                                                        -0.015425   \n",
              "\n",
              "                                                    Weather_Conditions_Fine without high winds  \\\n",
              "Accident_Severity                                                                    -0.025910   \n",
              "Light_Conditions_Darkeness: No street lighting                                       -0.074911   \n",
              "Light_Conditions_Darkness: Street lighting unknown                                   -0.044742   \n",
              "Light_Conditions_Darkness: Street lights presen...                                   -0.093839   \n",
              "Light_Conditions_Darkness: Street lights presen...                                   -0.018033   \n",
              "Light_Conditions_Daylight: Street light present                                       0.136071   \n",
              "Weather_Conditions_Fine with high winds                                              -0.222582   \n",
              "Weather_Conditions_Fine without high winds                                            1.000000   \n",
              "Weather_Conditions_Fog or mist                                                       -0.148175   \n",
              "Weather_Conditions_Other                                                             -0.302260   \n",
              "Weather_Conditions_Raining with high winds                                           -0.237214   \n",
              "Weather_Conditions_Raining without high winds                                        -0.732891   \n",
              "Weather_Conditions_Snowing with high winds                                           -0.072337   \n",
              "Weather_Conditions_Snowing without high winds                                        -0.174238   \n",
              "Weather_Conditions_Unknown                                                           -0.277918   \n",
              "\n",
              "                                                    Weather_Conditions_Fog or mist  \\\n",
              "Accident_Severity                                                        -0.004042   \n",
              "Light_Conditions_Darkeness: No street lighting                            0.058249   \n",
              "Light_Conditions_Darkness: Street lighting unknown                        0.005986   \n",
              "Light_Conditions_Darkness: Street lights presen...                        0.011799   \n",
              "Light_Conditions_Darkness: Street lights presen...                        0.005796   \n",
              "Light_Conditions_Daylight: Street light present                          -0.042865   \n",
              "Weather_Conditions_Fine with high winds                                  -0.008224   \n",
              "Weather_Conditions_Fine without high winds                               -0.148175   \n",
              "Weather_Conditions_Fog or mist                                            1.000000   \n",
              "Weather_Conditions_Other                                                 -0.011168   \n",
              "Weather_Conditions_Raining with high winds                               -0.008765   \n",
              "Weather_Conditions_Raining without high winds                            -0.027079   \n",
              "Weather_Conditions_Snowing with high winds                               -0.002673   \n",
              "Weather_Conditions_Snowing without high winds                            -0.006438   \n",
              "Weather_Conditions_Unknown                                               -0.010268   \n",
              "\n",
              "                                                    Weather_Conditions_Other  \\\n",
              "Accident_Severity                                                   0.012961   \n",
              "Light_Conditions_Darkeness: No street lighting                      0.037683   \n",
              "Light_Conditions_Darkness: Street lighting unknown                  0.002229   \n",
              "Light_Conditions_Darkness: Street lights presen...                  0.031787   \n",
              "Light_Conditions_Darkness: Street lights presen...                  0.008136   \n",
              "Light_Conditions_Daylight: Street light present                    -0.049729   \n",
              "Weather_Conditions_Fine with high winds                            -0.016776   \n",
              "Weather_Conditions_Fine without high winds                         -0.302260   \n",
              "Weather_Conditions_Fog or mist                                     -0.011168   \n",
              "Weather_Conditions_Other                                            1.000000   \n",
              "Weather_Conditions_Raining with high winds                         -0.017879   \n",
              "Weather_Conditions_Raining without high winds                      -0.055238   \n",
              "Weather_Conditions_Snowing with high winds                         -0.005452   \n",
              "Weather_Conditions_Snowing without high winds                      -0.013132   \n",
              "Weather_Conditions_Unknown                                         -0.020947   \n",
              "\n",
              "                                                    Weather_Conditions_Raining with high winds  \\\n",
              "Accident_Severity                                                                     0.000549   \n",
              "Light_Conditions_Darkeness: No street lighting                                        0.048193   \n",
              "Light_Conditions_Darkness: Street lighting unknown                                    0.000384   \n",
              "Light_Conditions_Darkness: Street lights presen...                                    0.041990   \n",
              "Light_Conditions_Darkness: Street lights presen...                                    0.010302   \n",
              "Light_Conditions_Daylight: Street light present                                      -0.064212   \n",
              "Weather_Conditions_Fine with high winds                                              -0.013166   \n",
              "Weather_Conditions_Fine without high winds                                           -0.237214   \n",
              "Weather_Conditions_Fog or mist                                                       -0.008765   \n",
              "Weather_Conditions_Other                                                             -0.017879   \n",
              "Weather_Conditions_Raining with high winds                                            1.000000   \n",
              "Weather_Conditions_Raining without high winds                                        -0.043351   \n",
              "Weather_Conditions_Snowing with high winds                                           -0.004279   \n",
              "Weather_Conditions_Snowing without high winds                                        -0.010306   \n",
              "Weather_Conditions_Unknown                                                           -0.016439   \n",
              "\n",
              "                                                    Weather_Conditions_Raining without high winds  \\\n",
              "Accident_Severity                                                                        0.018437   \n",
              "Light_Conditions_Darkeness: No street lighting                                           0.033486   \n",
              "Light_Conditions_Darkness: Street lighting unknown                                      -0.006382   \n",
              "Light_Conditions_Darkness: Street lights presen...                                       0.081967   \n",
              "Light_Conditions_Darkness: Street lights presen...                                       0.012519   \n",
              "Light_Conditions_Daylight: Street light present                                         -0.091339   \n",
              "Weather_Conditions_Fine with high winds                                                 -0.040677   \n",
              "Weather_Conditions_Fine without high winds                                              -0.732891   \n",
              "Weather_Conditions_Fog or mist                                                          -0.027079   \n",
              "Weather_Conditions_Other                                                                -0.055238   \n",
              "Weather_Conditions_Raining with high winds                                              -0.043351   \n",
              "Weather_Conditions_Raining without high winds                                            1.000000   \n",
              "Weather_Conditions_Snowing with high winds                                              -0.013219   \n",
              "Weather_Conditions_Snowing without high winds                                           -0.031842   \n",
              "Weather_Conditions_Unknown                                                              -0.050789   \n",
              "\n",
              "                                                    Weather_Conditions_Snowing with high winds  \\\n",
              "Accident_Severity                                                                     0.003080   \n",
              "Light_Conditions_Darkeness: No street lighting                                        0.028193   \n",
              "Light_Conditions_Darkness: Street lighting unknown                                    0.000715   \n",
              "Light_Conditions_Darkness: Street lights presen...                                    0.001151   \n",
              "Light_Conditions_Darkness: Street lights presen...                                    0.002725   \n",
              "Light_Conditions_Daylight: Street light present                                      -0.016129   \n",
              "Weather_Conditions_Fine with high winds                                              -0.004015   \n",
              "Weather_Conditions_Fine without high winds                                           -0.072337   \n",
              "Weather_Conditions_Fog or mist                                                       -0.002673   \n",
              "Weather_Conditions_Other                                                             -0.005452   \n",
              "Weather_Conditions_Raining with high winds                                           -0.004279   \n",
              "Weather_Conditions_Raining without high winds                                        -0.013219   \n",
              "Weather_Conditions_Snowing with high winds                                            1.000000   \n",
              "Weather_Conditions_Snowing without high winds                                        -0.003143   \n",
              "Weather_Conditions_Unknown                                                           -0.005013   \n",
              "\n",
              "                                                    Weather_Conditions_Snowing without high winds  \\\n",
              "Accident_Severity                                                                        0.010913   \n",
              "Light_Conditions_Darkeness: No street lighting                                           0.031123   \n",
              "Light_Conditions_Darkness: Street lighting unknown                                       0.003057   \n",
              "Light_Conditions_Darkness: Street lights presen...                                       0.016986   \n",
              "Light_Conditions_Darkness: Street lights presen...                                       0.001946   \n",
              "Light_Conditions_Daylight: Street light present                                         -0.032296   \n",
              "Weather_Conditions_Fine with high winds                                                 -0.009670   \n",
              "Weather_Conditions_Fine without high winds                                              -0.174238   \n",
              "Weather_Conditions_Fog or mist                                                          -0.006438   \n",
              "Weather_Conditions_Other                                                                -0.013132   \n",
              "Weather_Conditions_Raining with high winds                                              -0.010306   \n",
              "Weather_Conditions_Raining without high winds                                           -0.031842   \n",
              "Weather_Conditions_Snowing with high winds                                              -0.003143   \n",
              "Weather_Conditions_Snowing without high winds                                            1.000000   \n",
              "Weather_Conditions_Unknown                                                              -0.012075   \n",
              "\n",
              "                                                    Weather_Conditions_Unknown  \n",
              "Accident_Severity                                                     0.017108  \n",
              "Light_Conditions_Darkeness: No street lighting                       -0.015329  \n",
              "Light_Conditions_Darkness: Street lighting unknown                    0.140243  \n",
              "Light_Conditions_Darkness: Street lights presen...                   -0.012381  \n",
              "Light_Conditions_Darkness: Street lights presen...                   -0.001917  \n",
              "Light_Conditions_Daylight: Street light present                      -0.013322  \n",
              "Weather_Conditions_Fine with high winds                              -0.015425  \n",
              "Weather_Conditions_Fine without high winds                           -0.277918  \n",
              "Weather_Conditions_Fog or mist                                       -0.010268  \n",
              "Weather_Conditions_Other                                             -0.020947  \n",
              "Weather_Conditions_Raining with high winds                           -0.016439  \n",
              "Weather_Conditions_Raining without high winds                        -0.050789  \n",
              "Weather_Conditions_Snowing with high winds                           -0.005013  \n",
              "Weather_Conditions_Snowing without high winds                        -0.012075  \n",
              "Weather_Conditions_Unknown                                            1.000000  "
            ],
            "text/html": [
              "\n",
              "  <div id=\"df-06c1bce4-f1c9-4229-ba04-0d0f642735d2\">\n",
              "    <div class=\"colab-df-container\">\n",
              "      <div>\n",
              "<style scoped>\n",
              "    .dataframe tbody tr th:only-of-type {\n",
              "        vertical-align: middle;\n",
              "    }\n",
              "\n",
              "    .dataframe tbody tr th {\n",
              "        vertical-align: top;\n",
              "    }\n",
              "\n",
              "    .dataframe thead th {\n",
              "        text-align: right;\n",
              "    }\n",
              "</style>\n",
              "<table border=\"1\" class=\"dataframe\">\n",
              "  <thead>\n",
              "    <tr style=\"text-align: right;\">\n",
              "      <th></th>\n",
              "      <th>Accident_Severity</th>\n",
              "      <th>Light_Conditions_Darkeness: No street lighting</th>\n",
              "      <th>Light_Conditions_Darkness: Street lighting unknown</th>\n",
              "      <th>Light_Conditions_Darkness: Street lights present and lit</th>\n",
              "      <th>Light_Conditions_Darkness: Street lights present but unlit</th>\n",
              "      <th>Light_Conditions_Daylight: Street light present</th>\n",
              "      <th>Weather_Conditions_Fine with high winds</th>\n",
              "      <th>Weather_Conditions_Fine without high winds</th>\n",
              "      <th>Weather_Conditions_Fog or mist</th>\n",
              "      <th>Weather_Conditions_Other</th>\n",
              "      <th>Weather_Conditions_Raining with high winds</th>\n",
              "      <th>Weather_Conditions_Raining without high winds</th>\n",
              "      <th>Weather_Conditions_Snowing with high winds</th>\n",
              "      <th>Weather_Conditions_Snowing without high winds</th>\n",
              "      <th>Weather_Conditions_Unknown</th>\n",
              "    </tr>\n",
              "  </thead>\n",
              "  <tbody>\n",
              "    <tr>\n",
              "      <th>Accident_Severity</th>\n",
              "      <td>1.000000</td>\n",
              "      <td>-0.071174</td>\n",
              "      <td>0.002657</td>\n",
              "      <td>-0.018362</td>\n",
              "      <td>-0.003769</td>\n",
              "      <td>0.053096</td>\n",
              "      <td>-0.005982</td>\n",
              "      <td>-0.025910</td>\n",
              "      <td>-0.004042</td>\n",
              "      <td>0.012961</td>\n",
              "      <td>0.000549</td>\n",
              "      <td>0.018437</td>\n",
              "      <td>0.003080</td>\n",
              "      <td>0.010913</td>\n",
              "      <td>0.017108</td>\n",
              "    </tr>\n",
              "    <tr>\n",
              "      <th>Light_Conditions_Darkeness: No street lighting</th>\n",
              "      <td>-0.071174</td>\n",
              "      <td>1.000000</td>\n",
              "      <td>-0.025083</td>\n",
              "      <td>-0.119369</td>\n",
              "      <td>-0.016370</td>\n",
              "      <td>-0.399076</td>\n",
              "      <td>0.018572</td>\n",
              "      <td>-0.074911</td>\n",
              "      <td>0.058249</td>\n",
              "      <td>0.037683</td>\n",
              "      <td>0.048193</td>\n",
              "      <td>0.033486</td>\n",
              "      <td>0.028193</td>\n",
              "      <td>0.031123</td>\n",
              "      <td>-0.015329</td>\n",
              "    </tr>\n",
              "    <tr>\n",
              "      <th>Light_Conditions_Darkness: Street lighting unknown</th>\n",
              "      <td>0.002657</td>\n",
              "      <td>-0.025083</td>\n",
              "      <td>1.000000</td>\n",
              "      <td>-0.051555</td>\n",
              "      <td>-0.007070</td>\n",
              "      <td>-0.172360</td>\n",
              "      <td>-0.002335</td>\n",
              "      <td>-0.044742</td>\n",
              "      <td>0.005986</td>\n",
              "      <td>0.002229</td>\n",
              "      <td>0.000384</td>\n",
              "      <td>-0.006382</td>\n",
              "      <td>0.000715</td>\n",
              "      <td>0.003057</td>\n",
              "      <td>0.140243</td>\n",
              "    </tr>\n",
              "    <tr>\n",
              "      <th>Light_Conditions_Darkness: Street lights present and lit</th>\n",
              "      <td>-0.018362</td>\n",
              "      <td>-0.119369</td>\n",
              "      <td>-0.051555</td>\n",
              "      <td>1.000000</td>\n",
              "      <td>-0.033648</td>\n",
              "      <td>-0.820269</td>\n",
              "      <td>0.006970</td>\n",
              "      <td>-0.093839</td>\n",
              "      <td>0.011799</td>\n",
              "      <td>0.031787</td>\n",
              "      <td>0.041990</td>\n",
              "      <td>0.081967</td>\n",
              "      <td>0.001151</td>\n",
              "      <td>0.016986</td>\n",
              "      <td>-0.012381</td>\n",
              "    </tr>\n",
              "    <tr>\n",
              "      <th>Light_Conditions_Darkness: Street lights present but unlit</th>\n",
              "      <td>-0.003769</td>\n",
              "      <td>-0.016370</td>\n",
              "      <td>-0.007070</td>\n",
              "      <td>-0.033648</td>\n",
              "      <td>1.000000</td>\n",
              "      <td>-0.112492</td>\n",
              "      <td>0.003017</td>\n",
              "      <td>-0.018033</td>\n",
              "      <td>0.005796</td>\n",
              "      <td>0.008136</td>\n",
              "      <td>0.010302</td>\n",
              "      <td>0.012519</td>\n",
              "      <td>0.002725</td>\n",
              "      <td>0.001946</td>\n",
              "      <td>-0.001917</td>\n",
              "    </tr>\n",
              "    <tr>\n",
              "      <th>Light_Conditions_Daylight: Street light present</th>\n",
              "      <td>0.053096</td>\n",
              "      <td>-0.399076</td>\n",
              "      <td>-0.172360</td>\n",
              "      <td>-0.820269</td>\n",
              "      <td>-0.112492</td>\n",
              "      <td>1.000000</td>\n",
              "      <td>-0.015741</td>\n",
              "      <td>0.136071</td>\n",
              "      <td>-0.042865</td>\n",
              "      <td>-0.049729</td>\n",
              "      <td>-0.064212</td>\n",
              "      <td>-0.091339</td>\n",
              "      <td>-0.016129</td>\n",
              "      <td>-0.032296</td>\n",
              "      <td>-0.013322</td>\n",
              "    </tr>\n",
              "    <tr>\n",
              "      <th>Weather_Conditions_Fine with high winds</th>\n",
              "      <td>-0.005982</td>\n",
              "      <td>0.018572</td>\n",
              "      <td>-0.002335</td>\n",
              "      <td>0.006970</td>\n",
              "      <td>0.003017</td>\n",
              "      <td>-0.015741</td>\n",
              "      <td>1.000000</td>\n",
              "      <td>-0.222582</td>\n",
              "      <td>-0.008224</td>\n",
              "      <td>-0.016776</td>\n",
              "      <td>-0.013166</td>\n",
              "      <td>-0.040677</td>\n",
              "      <td>-0.004015</td>\n",
              "      <td>-0.009670</td>\n",
              "      <td>-0.015425</td>\n",
              "    </tr>\n",
              "    <tr>\n",
              "      <th>Weather_Conditions_Fine without high winds</th>\n",
              "      <td>-0.025910</td>\n",
              "      <td>-0.074911</td>\n",
              "      <td>-0.044742</td>\n",
              "      <td>-0.093839</td>\n",
              "      <td>-0.018033</td>\n",
              "      <td>0.136071</td>\n",
              "      <td>-0.222582</td>\n",
              "      <td>1.000000</td>\n",
              "      <td>-0.148175</td>\n",
              "      <td>-0.302260</td>\n",
              "      <td>-0.237214</td>\n",
              "      <td>-0.732891</td>\n",
              "      <td>-0.072337</td>\n",
              "      <td>-0.174238</td>\n",
              "      <td>-0.277918</td>\n",
              "    </tr>\n",
              "    <tr>\n",
              "      <th>Weather_Conditions_Fog or mist</th>\n",
              "      <td>-0.004042</td>\n",
              "      <td>0.058249</td>\n",
              "      <td>0.005986</td>\n",
              "      <td>0.011799</td>\n",
              "      <td>0.005796</td>\n",
              "      <td>-0.042865</td>\n",
              "      <td>-0.008224</td>\n",
              "      <td>-0.148175</td>\n",
              "      <td>1.000000</td>\n",
              "      <td>-0.011168</td>\n",
              "      <td>-0.008765</td>\n",
              "      <td>-0.027079</td>\n",
              "      <td>-0.002673</td>\n",
              "      <td>-0.006438</td>\n",
              "      <td>-0.010268</td>\n",
              "    </tr>\n",
              "    <tr>\n",
              "      <th>Weather_Conditions_Other</th>\n",
              "      <td>0.012961</td>\n",
              "      <td>0.037683</td>\n",
              "      <td>0.002229</td>\n",
              "      <td>0.031787</td>\n",
              "      <td>0.008136</td>\n",
              "      <td>-0.049729</td>\n",
              "      <td>-0.016776</td>\n",
              "      <td>-0.302260</td>\n",
              "      <td>-0.011168</td>\n",
              "      <td>1.000000</td>\n",
              "      <td>-0.017879</td>\n",
              "      <td>-0.055238</td>\n",
              "      <td>-0.005452</td>\n",
              "      <td>-0.013132</td>\n",
              "      <td>-0.020947</td>\n",
              "    </tr>\n",
              "    <tr>\n",
              "      <th>Weather_Conditions_Raining with high winds</th>\n",
              "      <td>0.000549</td>\n",
              "      <td>0.048193</td>\n",
              "      <td>0.000384</td>\n",
              "      <td>0.041990</td>\n",
              "      <td>0.010302</td>\n",
              "      <td>-0.064212</td>\n",
              "      <td>-0.013166</td>\n",
              "      <td>-0.237214</td>\n",
              "      <td>-0.008765</td>\n",
              "      <td>-0.017879</td>\n",
              "      <td>1.000000</td>\n",
              "      <td>-0.043351</td>\n",
              "      <td>-0.004279</td>\n",
              "      <td>-0.010306</td>\n",
              "      <td>-0.016439</td>\n",
              "    </tr>\n",
              "    <tr>\n",
              "      <th>Weather_Conditions_Raining without high winds</th>\n",
              "      <td>0.018437</td>\n",
              "      <td>0.033486</td>\n",
              "      <td>-0.006382</td>\n",
              "      <td>0.081967</td>\n",
              "      <td>0.012519</td>\n",
              "      <td>-0.091339</td>\n",
              "      <td>-0.040677</td>\n",
              "      <td>-0.732891</td>\n",
              "      <td>-0.027079</td>\n",
              "      <td>-0.055238</td>\n",
              "      <td>-0.043351</td>\n",
              "      <td>1.000000</td>\n",
              "      <td>-0.013219</td>\n",
              "      <td>-0.031842</td>\n",
              "      <td>-0.050789</td>\n",
              "    </tr>\n",
              "    <tr>\n",
              "      <th>Weather_Conditions_Snowing with high winds</th>\n",
              "      <td>0.003080</td>\n",
              "      <td>0.028193</td>\n",
              "      <td>0.000715</td>\n",
              "      <td>0.001151</td>\n",
              "      <td>0.002725</td>\n",
              "      <td>-0.016129</td>\n",
              "      <td>-0.004015</td>\n",
              "      <td>-0.072337</td>\n",
              "      <td>-0.002673</td>\n",
              "      <td>-0.005452</td>\n",
              "      <td>-0.004279</td>\n",
              "      <td>-0.013219</td>\n",
              "      <td>1.000000</td>\n",
              "      <td>-0.003143</td>\n",
              "      <td>-0.005013</td>\n",
              "    </tr>\n",
              "    <tr>\n",
              "      <th>Weather_Conditions_Snowing without high winds</th>\n",
              "      <td>0.010913</td>\n",
              "      <td>0.031123</td>\n",
              "      <td>0.003057</td>\n",
              "      <td>0.016986</td>\n",
              "      <td>0.001946</td>\n",
              "      <td>-0.032296</td>\n",
              "      <td>-0.009670</td>\n",
              "      <td>-0.174238</td>\n",
              "      <td>-0.006438</td>\n",
              "      <td>-0.013132</td>\n",
              "      <td>-0.010306</td>\n",
              "      <td>-0.031842</td>\n",
              "      <td>-0.003143</td>\n",
              "      <td>1.000000</td>\n",
              "      <td>-0.012075</td>\n",
              "    </tr>\n",
              "    <tr>\n",
              "      <th>Weather_Conditions_Unknown</th>\n",
              "      <td>0.017108</td>\n",
              "      <td>-0.015329</td>\n",
              "      <td>0.140243</td>\n",
              "      <td>-0.012381</td>\n",
              "      <td>-0.001917</td>\n",
              "      <td>-0.013322</td>\n",
              "      <td>-0.015425</td>\n",
              "      <td>-0.277918</td>\n",
              "      <td>-0.010268</td>\n",
              "      <td>-0.020947</td>\n",
              "      <td>-0.016439</td>\n",
              "      <td>-0.050789</td>\n",
              "      <td>-0.005013</td>\n",
              "      <td>-0.012075</td>\n",
              "      <td>1.000000</td>\n",
              "    </tr>\n",
              "  </tbody>\n",
              "</table>\n",
              "</div>\n",
              "      <button class=\"colab-df-convert\" onclick=\"convertToInteractive('df-06c1bce4-f1c9-4229-ba04-0d0f642735d2')\"\n",
              "              title=\"Convert this dataframe to an interactive table.\"\n",
              "              style=\"display:none;\">\n",
              "        \n",
              "  <svg xmlns=\"http://www.w3.org/2000/svg\" height=\"24px\"viewBox=\"0 0 24 24\"\n",
              "       width=\"24px\">\n",
              "    <path d=\"M0 0h24v24H0V0z\" fill=\"none\"/>\n",
              "    <path d=\"M18.56 5.44l.94 2.06.94-2.06 2.06-.94-2.06-.94-.94-2.06-.94 2.06-2.06.94zm-11 1L8.5 8.5l.94-2.06 2.06-.94-2.06-.94L8.5 2.5l-.94 2.06-2.06.94zm10 10l.94 2.06.94-2.06 2.06-.94-2.06-.94-.94-2.06-.94 2.06-2.06.94z\"/><path d=\"M17.41 7.96l-1.37-1.37c-.4-.4-.92-.59-1.43-.59-.52 0-1.04.2-1.43.59L10.3 9.45l-7.72 7.72c-.78.78-.78 2.05 0 2.83L4 21.41c.39.39.9.59 1.41.59.51 0 1.02-.2 1.41-.59l7.78-7.78 2.81-2.81c.8-.78.8-2.07 0-2.86zM5.41 20L4 18.59l7.72-7.72 1.47 1.35L5.41 20z\"/>\n",
              "  </svg>\n",
              "      </button>\n",
              "      \n",
              "  <style>\n",
              "    .colab-df-container {\n",
              "      display:flex;\n",
              "      flex-wrap:wrap;\n",
              "      gap: 12px;\n",
              "    }\n",
              "\n",
              "    .colab-df-convert {\n",
              "      background-color: #E8F0FE;\n",
              "      border: none;\n",
              "      border-radius: 50%;\n",
              "      cursor: pointer;\n",
              "      display: none;\n",
              "      fill: #1967D2;\n",
              "      height: 32px;\n",
              "      padding: 0 0 0 0;\n",
              "      width: 32px;\n",
              "    }\n",
              "\n",
              "    .colab-df-convert:hover {\n",
              "      background-color: #E2EBFA;\n",
              "      box-shadow: 0px 1px 2px rgba(60, 64, 67, 0.3), 0px 1px 3px 1px rgba(60, 64, 67, 0.15);\n",
              "      fill: #174EA6;\n",
              "    }\n",
              "\n",
              "    [theme=dark] .colab-df-convert {\n",
              "      background-color: #3B4455;\n",
              "      fill: #D2E3FC;\n",
              "    }\n",
              "\n",
              "    [theme=dark] .colab-df-convert:hover {\n",
              "      background-color: #434B5C;\n",
              "      box-shadow: 0px 1px 3px 1px rgba(0, 0, 0, 0.15);\n",
              "      filter: drop-shadow(0px 1px 2px rgba(0, 0, 0, 0.3));\n",
              "      fill: #FFFFFF;\n",
              "    }\n",
              "  </style>\n",
              "\n",
              "      <script>\n",
              "        const buttonEl =\n",
              "          document.querySelector('#df-06c1bce4-f1c9-4229-ba04-0d0f642735d2 button.colab-df-convert');\n",
              "        buttonEl.style.display =\n",
              "          google.colab.kernel.accessAllowed ? 'block' : 'none';\n",
              "\n",
              "        async function convertToInteractive(key) {\n",
              "          const element = document.querySelector('#df-06c1bce4-f1c9-4229-ba04-0d0f642735d2');\n",
              "          const dataTable =\n",
              "            await google.colab.kernel.invokeFunction('convertToInteractive',\n",
              "                                                     [key], {});\n",
              "          if (!dataTable) return;\n",
              "\n",
              "          const docLinkHtml = 'Like what you see? Visit the ' +\n",
              "            '<a target=\"_blank\" href=https://colab.research.google.com/notebooks/data_table.ipynb>data table notebook</a>'\n",
              "            + ' to learn more about interactive tables.';\n",
              "          element.innerHTML = '';\n",
              "          dataTable['output_type'] = 'display_data';\n",
              "          await google.colab.output.renderOutput(dataTable, element);\n",
              "          const docLink = document.createElement('div');\n",
              "          docLink.innerHTML = docLinkHtml;\n",
              "          element.appendChild(docLink);\n",
              "        }\n",
              "      </script>\n",
              "    </div>\n",
              "  </div>\n",
              "  "
            ]
          },
          "metadata": {},
          "execution_count": 71
        }
      ]
    },
    {
      "cell_type": "code",
      "source": [
        "# Using Seaborn for plotting a Heatmap :\n",
        "import seaborn as sns"
      ],
      "metadata": {
        "id": "Nb7SdM1ry4Cz"
      },
      "execution_count": null,
      "outputs": []
    },
    {
      "cell_type": "code",
      "source": [
        "plt.figure(figsize=(15,10))\n",
        "sns.heatmap(corr_chart, vmin=-1, cmap='OrRd', annot = True)\n",
        "plt.show()"
      ],
      "metadata": {
        "colab": {
          "base_uri": "https://localhost:8080/",
          "height": 807
        },
        "id": "W5ZtItLc0fGa",
        "outputId": "8cbbe655-3b6d-4845-c7b0-b4f78a3bb9f3"
      },
      "execution_count": null,
      "outputs": [
        {
          "output_type": "display_data",
          "data": {
            "text/plain": [
              "<Figure size 1080x720 with 2 Axes>"
            ],
            "image/png": "[encoded data removed]"
          },
          "metadata": {
            "needs_background": "light"
          }
        }
      ]
    },
    {
      "cell_type": "markdown",
      "source": [
        "#### **Insights**\n",
        "\n",
        "Our general intuition says that the number of accidents will be more when the light and weather conditions are at bad, like absence of ambient light at night-time or bad weather conditions like too much winds, rainfall. From the correlation matrix of the data however, we can observe that overall both the light and weather conditions doesn't have much effect on Accident_severity as they are almost close to 0.\n",
        "\n",
        "Light_conditions with Street Light present is more impactful compared to Weather_Conditions. The interpretation of this could be like when Street Light is present compared Daytime, the number of accidents being caused and their severity are much higher.\n",
        "\n",
        "However this is not much insightful and we can conclude from the given data that light and weather conditions don't play a big role in the accident severity."
      ],
      "metadata": {
        "id": "Fp_yGmYy13B7"
      }
    },
    {
      "cell_type": "markdown",
      "source": [
        "## **Conclusion :**\n",
        "\n",
        "we can summarize our findings as follows :\n",
        "\n",
        "* The number of traffic accidents in UK shows a decreasing trend over the years.\n",
        "* The rushAccidents "
      ],
      "metadata": {
        "id": "IPTz0Uu98YAP"
      }
    },
    {
      "cell_type": "code",
      "source": [
        ""
      ],
      "metadata": {
        "id": "HZGIZZPt0lEK"
      },
      "execution_count": null,
      "outputs": []
    }
  ]
}